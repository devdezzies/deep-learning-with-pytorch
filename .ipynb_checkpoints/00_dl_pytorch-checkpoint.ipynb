{
 "cells": [
  {
   "cell_type": "markdown",
   "id": "1a13b1a0-6a83-4cf7-b3df-b431e72b0728",
   "metadata": {},
   "source": [
    "# 00. Deep Learning Fundamentals with Pytorch"
   ]
  },
  {
   "cell_type": "code",
   "execution_count": 374,
   "id": "661bb330-9ef0-4e51-92a3-812cad8117d5",
   "metadata": {},
   "outputs": [
    {
     "name": "stdout",
     "output_type": "stream",
     "text": [
      "PyTorch version:  2.4.0\n",
      "CUDA available:  True\n",
      "CUDA device count:  1\n",
      "CUDA device name:  NVIDIA GeForce GTX 1650\n"
     ]
    }
   ],
   "source": [
    "import torch \n",
    "\n",
    "print(\"PyTorch version: \", torch.__version__)\n",
    "print(\"CUDA available: \", torch.cuda.is_available())\n",
    "print(\"CUDA device count: \", torch.cuda.device_count())\n",
    "print(\"CUDA device name: \", torch.cuda.get_device_name(0))"
   ]
  },
  {
   "cell_type": "code",
   "execution_count": 375,
   "id": "6dcd7937-0a5e-4a7f-91c2-fe5814aae584",
   "metadata": {},
   "outputs": [],
   "source": [
    "def get_tensor_information(ts: torch.tensor):\n",
    "    print(f'tensor size: {ts.shape}')\n",
    "    print(f'tensor device: {ts.device}')"
   ]
  },
  {
   "cell_type": "code",
   "execution_count": 376,
   "id": "d6f0016e-d777-46da-8a2f-16f3581b480d",
   "metadata": {},
   "outputs": [
    {
     "data": {
      "text/plain": [
       "tensor([[[0.9008, 0.8121, 0.5724],\n",
       "         [0.7297, 0.0023, 0.1315],\n",
       "         [0.6841, 0.1619, 0.5294],\n",
       "         ...,\n",
       "         [0.9876, 0.0895, 0.2296],\n",
       "         [0.7197, 0.6428, 0.8580],\n",
       "         [0.6177, 0.5090, 0.9884]],\n",
       "\n",
       "        [[0.5797, 0.0791, 0.4689],\n",
       "         [0.1102, 0.6933, 0.0430],\n",
       "         [0.4635, 0.0582, 0.9679],\n",
       "         ...,\n",
       "         [0.3709, 0.3822, 0.1361],\n",
       "         [0.3004, 0.8889, 0.7884],\n",
       "         [0.6104, 0.2184, 0.3380]],\n",
       "\n",
       "        [[0.1288, 0.0706, 0.4448],\n",
       "         [0.3971, 0.6292, 0.2826],\n",
       "         [0.5327, 0.2781, 0.8795],\n",
       "         ...,\n",
       "         [0.1642, 0.2848, 0.5091],\n",
       "         [0.1593, 0.0618, 0.2000],\n",
       "         [0.8886, 0.3389, 0.3977]],\n",
       "\n",
       "        ...,\n",
       "\n",
       "        [[0.6004, 0.2046, 0.5409],\n",
       "         [0.6758, 0.2592, 0.0791],\n",
       "         [0.8640, 0.1910, 0.7461],\n",
       "         ...,\n",
       "         [0.7911, 0.6220, 0.4478],\n",
       "         [0.8893, 0.5448, 0.0630],\n",
       "         [0.9666, 0.4815, 0.0219]],\n",
       "\n",
       "        [[0.1952, 0.8556, 0.1307],\n",
       "         [0.7689, 0.9568, 0.2037],\n",
       "         [0.4798, 0.7871, 0.5331],\n",
       "         ...,\n",
       "         [0.9393, 0.5041, 0.1512],\n",
       "         [0.9627, 0.4440, 0.0371],\n",
       "         [0.0119, 0.2979, 0.6941]],\n",
       "\n",
       "        [[0.1072, 0.5183, 0.1469],\n",
       "         [0.8977, 0.9284, 0.0413],\n",
       "         [0.7155, 0.2631, 0.2934],\n",
       "         ...,\n",
       "         [0.6763, 0.3158, 0.3276],\n",
       "         [0.2965, 0.3758, 0.5636],\n",
       "         [0.9917, 0.7653, 0.3670]]], device='cuda:0')"
      ]
     },
     "execution_count": 376,
     "metadata": {},
     "output_type": "execute_result"
    }
   ],
   "source": [
    "tensor = torch.rand(size=(244, 244, 3), dtype=torch.float32, device='cuda')\n",
    "tensor"
   ]
  },
  {
   "cell_type": "code",
   "execution_count": 377,
   "id": "b69baa33-c5ed-4e02-bbad-f592d967f7d9",
   "metadata": {},
   "outputs": [
    {
     "name": "stdout",
     "output_type": "stream",
     "text": [
      "tensor size: torch.Size([244, 244, 3])\n",
      "tensor device: cuda:0\n"
     ]
    }
   ],
   "source": [
    "get_tensor_information(ts=tensor)"
   ]
  },
  {
   "cell_type": "code",
   "execution_count": 378,
   "id": "8b88a743-a094-4c26-9885-5be58f19c128",
   "metadata": {},
   "outputs": [
    {
     "data": {
      "text/plain": [
       "tensor([1, 2, 3], dtype=torch.int32)"
      ]
     },
     "execution_count": 378,
     "metadata": {},
     "output_type": "execute_result"
    }
   ],
   "source": [
    "int_32_tensor = torch.tensor(dtype=torch.int32, data=[1,2,3])\n",
    "int_32_tensor"
   ]
  },
  {
   "cell_type": "code",
   "execution_count": 379,
   "id": "bc287f9b-97d0-43ed-be74-a610ab55a948",
   "metadata": {},
   "outputs": [
    {
     "data": {
      "text/plain": [
       "1"
      ]
     },
     "execution_count": 379,
     "metadata": {},
     "output_type": "execute_result"
    }
   ],
   "source": [
    "int_32_tensor.ndim"
   ]
  },
  {
   "cell_type": "code",
   "execution_count": 380,
   "id": "ae041d71-3696-418f-9afb-dbc38b4a0fe9",
   "metadata": {},
   "outputs": [
    {
     "data": {
      "text/plain": [
       "torch.Size([3])"
      ]
     },
     "execution_count": 380,
     "metadata": {},
     "output_type": "execute_result"
    }
   ],
   "source": [
    "int_32_tensor.shape"
   ]
  },
  {
   "cell_type": "code",
   "execution_count": 381,
   "id": "6fabfe14-ba88-41fb-b7e6-15610e4c1033",
   "metadata": {},
   "outputs": [
    {
     "data": {
      "text/plain": [
       "tensor([[0.3837, 0.5793, 0.3447, 0.3708, 0.1861],\n",
       "        [0.2567, 0.6296, 0.3700, 0.6519, 0.6149],\n",
       "        [0.2665, 0.0896, 0.6334, 0.2120, 0.4764],\n",
       "        [0.2402, 0.5455, 0.8667, 0.1337, 0.8654],\n",
       "        [0.5655, 0.8751, 0.6080, 0.3730, 0.7470]])"
      ]
     },
     "execution_count": 381,
     "metadata": {},
     "output_type": "execute_result"
    }
   ],
   "source": [
    "random_tensor = torch.rand(size=(5,5))\n",
    "random_tensor"
   ]
  },
  {
   "cell_type": "code",
   "execution_count": 382,
   "id": "649ad27d-3e63-48c7-a04d-e9230a99d0ce",
   "metadata": {},
   "outputs": [
    {
     "data": {
      "text/plain": [
       "tensor([[0.5821, 0.9830, 0.9995, 0.7120, 1.0517],\n",
       "        [0.8630, 1.4719, 1.4946, 0.9006, 1.6346],\n",
       "        [0.6145, 0.8001, 0.9997, 0.4976, 0.9458],\n",
       "        [0.9847, 1.3904, 1.4757, 0.9691, 1.5552],\n",
       "        [1.1157, 1.7902, 1.6814, 1.2376, 1.8138]])"
      ]
     },
     "execution_count": 382,
     "metadata": {},
     "output_type": "execute_result"
    }
   ],
   "source": [
    "torch.matmul(random_tensor, random_tensor)"
   ]
  },
  {
   "cell_type": "code",
   "execution_count": 383,
   "id": "0f42c145-edc7-47ca-ba42-26ff1c3ba157",
   "metadata": {},
   "outputs": [
    {
     "data": {
      "text/plain": [
       "tensor([[0.5821, 0.9830, 0.9995, 0.7120, 1.0517],\n",
       "        [0.8630, 1.4719, 1.4946, 0.9006, 1.6346],\n",
       "        [0.6145, 0.8001, 0.9997, 0.4976, 0.9458],\n",
       "        [0.9847, 1.3904, 1.4757, 0.9691, 1.5552],\n",
       "        [1.1157, 1.7902, 1.6814, 1.2376, 1.8138]])"
      ]
     },
     "execution_count": 383,
     "metadata": {},
     "output_type": "execute_result"
    }
   ],
   "source": [
    "torch.matmul(random_tensor, random_tensor)"
   ]
  },
  {
   "cell_type": "code",
   "execution_count": 384,
   "id": "cb147f78-997c-4e0c-8d05-d741104c3897",
   "metadata": {},
   "outputs": [
    {
     "data": {
      "text/plain": [
       "tensor([1, 2, 3])"
      ]
     },
     "execution_count": 384,
     "metadata": {},
     "output_type": "execute_result"
    }
   ],
   "source": [
    "a_tensor = torch.tensor(data=[1,2,3])\n",
    "a_tensor"
   ]
  },
  {
   "cell_type": "code",
   "execution_count": 385,
   "id": "7cd84a00-3ae8-4a90-947a-7e3703c78e45",
   "metadata": {},
   "outputs": [
    {
     "data": {
      "text/plain": [
       "torch.Size([3])"
      ]
     },
     "execution_count": 385,
     "metadata": {},
     "output_type": "execute_result"
    }
   ],
   "source": [
    "a_tensor.shape"
   ]
  },
  {
   "cell_type": "markdown",
   "id": "927814c8-e632-4abb-82eb-3a6007dcae3c",
   "metadata": {},
   "source": [
    "### Manipulating Tensors\n",
    "\n",
    "Tensor operations include: \n",
    "- addition\n",
    "- substraction\n",
    "- multiplication (element-wise)\n",
    "- division\n",
    "- matrix multiplication"
   ]
  },
  {
   "cell_type": "code",
   "execution_count": 387,
   "id": "8eeade91-4cb9-4e23-97e5-50cdc9f35e09",
   "metadata": {},
   "outputs": [
    {
     "data": {
      "text/plain": [
       "tensor([1, 2, 3])"
      ]
     },
     "execution_count": 387,
     "metadata": {},
     "output_type": "execute_result"
    }
   ],
   "source": [
    "#create a tensor\n",
    "ts = torch.tensor([1, 2, 3])\n",
    "ts"
   ]
  },
  {
   "cell_type": "code",
   "execution_count": 388,
   "id": "d45e2ee9-8541-4e22-a83a-b1baad94f874",
   "metadata": {},
   "outputs": [
    {
     "data": {
      "text/plain": [
       "tensor([10, 20, 30])"
      ]
     },
     "execution_count": 388,
     "metadata": {},
     "output_type": "execute_result"
    }
   ],
   "source": [
    "ts = ts * 10\n",
    "ts"
   ]
  },
  {
   "cell_type": "code",
   "execution_count": 389,
   "id": "15676dd8-b23e-4713-b2b7-065ca263fc79",
   "metadata": {},
   "outputs": [
    {
     "data": {
      "text/plain": [
       "tensor([100, 200, 300])"
      ]
     },
     "execution_count": 389,
     "metadata": {},
     "output_type": "execute_result"
    }
   ],
   "source": [
    "# using pytorch in-built functions\n",
    "torch.mul(ts, 10)"
   ]
  },
  {
   "cell_type": "markdown",
   "id": "7b534d81-847b-468a-8def-f73b4987ff35",
   "metadata": {},
   "source": [
    "### Matrix multiplication\n",
    "\n",
    "There are two main ways to perform matrix multiplication:\n",
    "1. element-wise\n",
    "2. dot-product\n",
    "\n",
    "There are two main rules that peforming matrix multiplication needs to satisfy: \n",
    "1. the **inner dimensions** must match:\n",
    "   - `(3, 2) @ (3, 2)` won't work\n",
    "   - `(3, 2) @ (2, 3)` will work\n",
    "2. the resulting matrix has the shape of the **outer dimension**:\n",
    "   - `(2, 3) @ (3, 2)` -> `(2,2)`\n",
    "  \n",
    "playground - http://matrixmultiplication.xyz/"
   ]
  },
  {
   "cell_type": "code",
   "execution_count": 391,
   "id": "33f6e0f3-4eb6-437f-827a-154761dc41fd",
   "metadata": {},
   "outputs": [
    {
     "data": {
      "text/plain": [
       "tensor([[0.6225, 0.5169, 0.4973],\n",
       "        [0.7814, 0.9764, 0.4518],\n",
       "        [0.6647, 0.7128, 0.4463]])"
      ]
     },
     "execution_count": 391,
     "metadata": {},
     "output_type": "execute_result"
    }
   ],
   "source": [
    "torch.matmul(torch.rand(3, 2), torch.rand(2, 3))"
   ]
  },
  {
   "cell_type": "code",
   "execution_count": 392,
   "id": "5177d4dc-6dd7-4441-9b8c-0e5a24359363",
   "metadata": {},
   "outputs": [
    {
     "name": "stdout",
     "output_type": "stream",
     "text": [
      "CPU times: total: 0 ns\n",
      "Wall time: 0 ns\n"
     ]
    },
    {
     "data": {
      "text/plain": [
       "tensor(14)"
      ]
     },
     "execution_count": 392,
     "metadata": {},
     "output_type": "execute_result"
    }
   ],
   "source": [
    "%%time\n",
    "torch.matmul(a_tensor, a_tensor)\n",
    "## For 2D tensors (matrices): torch.matmul(A, B) performs matrix multiplication.\n",
    "## For 1D tensors (vectors): torch.matmul(a, b) performs the dot product if one of the tensors is 1D and the other is 2D or if both are 1D."
   ]
  },
  {
   "cell_type": "markdown",
   "id": "fc90c55a-0951-44e8-bb84-082090171806",
   "metadata": {},
   "source": [
    "### one of the most common errors in deep learning: shape errors"
   ]
  },
  {
   "cell_type": "code",
   "execution_count": 394,
   "id": "7b320a92-2310-4578-a8a8-e93e407fb837",
   "metadata": {},
   "outputs": [],
   "source": [
    "# shapes for matrix multiplication\n",
    "tensor_a = torch.tensor([[1,2],\n",
    "                         [3,2],\n",
    "                         [4,3]])\n",
    "tensor_b = torch.tensor([[2,3],\n",
    "                         [4,3],\n",
    "                         [6,7]])\n",
    "## these tensors cannot be multiplied because the inner dimensions aren't the same\n",
    "## we need to perform matrix transpose"
   ]
  },
  {
   "cell_type": "code",
   "execution_count": 395,
   "id": "45cf7ecc-6126-4130-85ea-ecf9a8d8ccca",
   "metadata": {},
   "outputs": [
    {
     "data": {
      "text/plain": [
       "(torch.Size([3, 2]), torch.Size([3, 2]))"
      ]
     },
     "execution_count": 395,
     "metadata": {},
     "output_type": "execute_result"
    }
   ],
   "source": [
    "tensor_a.shape, tensor_b.shape"
   ]
  },
  {
   "cell_type": "markdown",
   "id": "0538f136-0a45-4bf0-88a1-a857a20cf3f6",
   "metadata": {},
   "source": [
    "To fix tensor shape issues, we can manipulate the shape of one of our tensors using a **transpose**."
   ]
  },
  {
   "cell_type": "code",
   "execution_count": 397,
   "id": "7b09706c-5c0e-4e41-a58b-2019b9f39aa7",
   "metadata": {},
   "outputs": [
    {
     "name": "stdout",
     "output_type": "stream",
     "text": [
      "Original size of matrix a = torch.Size([3, 2]) and matrix b = torch.Size([3, 2])\n",
      "They cannot be multiplied since their inner dimensions don't match\n",
      "\n",
      "We can perform a matrix manipulation to one of the matrices\n",
      "Transposed matrix b: tensor([[2, 4, 6],\n",
      "        [3, 3, 7]])\n",
      "matrix b.T still contains the same information as the original matrix b\n",
      "\n",
      "Now these matrices have the same inner dimension a = torch.Size([3, 2]); b = torch.Size([2, 3])\n"
     ]
    }
   ],
   "source": [
    "print(f\"Original size of matrix a = {tensor_a.shape} and matrix b = {tensor_b.shape}\")\n",
    "print(f\"They cannot be multiplied since their inner dimensions don't match\")\n",
    "print(f\"\\nWe can perform a matrix manipulation to one of the matrices\")\n",
    "print(f\"Transposed matrix b: {tensor_b.T}\")\n",
    "print(\"matrix b.T still contains the same information as the original matrix b\")\n",
    "print(f\"\\nNow these matrices have the same inner dimension a = {tensor_a.shape}; b = {tensor_b.T.shape}\")"
   ]
  },
  {
   "cell_type": "code",
   "execution_count": 398,
   "id": "ac7e8283-4dd0-45fc-9e63-40361ddf5c28",
   "metadata": {},
   "outputs": [
    {
     "data": {
      "text/plain": [
       "tensor([[ 8, 10, 20],\n",
       "        [12, 18, 32],\n",
       "        [17, 25, 45]])"
      ]
     },
     "execution_count": 398,
     "metadata": {},
     "output_type": "execute_result"
    }
   ],
   "source": [
    "multiplied_matrices = torch.matmul(tensor_a, tensor_b.T)\n",
    "multiplied_matrices"
   ]
  },
  {
   "cell_type": "markdown",
   "id": "d6847dee-d053-4612-a169-765added73d2",
   "metadata": {},
   "source": [
    "### 3D tensors multiplication\n",
    "For tensors A with shape (B, M, N) and B with shape (B, N, P), where B is the batch size:\n",
    "The last dimension of A (size N) must match the second-to-last dimension of B (also size N).\n",
    "The resulting tensor will have shape (B, M, P)."
   ]
  },
  {
   "cell_type": "code",
   "execution_count": 400,
   "id": "e2987027-17b3-4ed2-9d80-90db89907638",
   "metadata": {},
   "outputs": [
    {
     "data": {
      "text/plain": [
       "tensor([[[0.9854, 0.7004, 0.5506, 0.9576, 0.0745, 0.1651, 0.2919],\n",
       "         [0.7382, 0.3040, 0.3778, 0.1774, 0.7188, 0.9927, 0.3304]],\n",
       "\n",
       "        [[0.4662, 0.1805, 0.7134, 0.7913, 0.0100, 0.7127, 0.9708],\n",
       "         [0.7018, 0.2168, 0.8755, 0.2662, 0.0299, 0.4750, 0.8353]],\n",
       "\n",
       "        [[0.2537, 0.2913, 0.4193, 0.5597, 0.6425, 0.9609, 0.2462],\n",
       "         [0.0753, 0.3201, 0.6531, 0.0063, 0.0923, 0.5191, 0.3501]],\n",
       "\n",
       "        [[0.9167, 0.2285, 0.7628, 0.7462, 0.7979, 0.0258, 0.3598],\n",
       "         [0.7156, 0.7199, 0.2119, 0.1391, 0.0184, 0.0719, 0.4675]],\n",
       "\n",
       "        [[0.1332, 0.5734, 0.4421, 0.7766, 0.1351, 0.5150, 0.2916],\n",
       "         [0.7765, 0.7037, 0.6216, 0.4339, 0.2207, 0.6778, 0.7687]]])"
      ]
     },
     "execution_count": 400,
     "metadata": {},
     "output_type": "execute_result"
    }
   ],
   "source": [
    "three_dimension_ts1 = torch.rand(size=(5, 2, 7))\n",
    "three_dimension_ts1"
   ]
  },
  {
   "cell_type": "code",
   "execution_count": 401,
   "id": "cc9ecdcb-8d8d-4353-8158-f9b618bd0475",
   "metadata": {},
   "outputs": [
    {
     "data": {
      "text/plain": [
       "tensor([[[0.7310],\n",
       "         [0.2806],\n",
       "         [0.5325],\n",
       "         [0.3915],\n",
       "         [0.6299],\n",
       "         [0.7290],\n",
       "         [0.0378]],\n",
       "\n",
       "        [[0.7219],\n",
       "         [0.6591],\n",
       "         [0.0843],\n",
       "         [0.3250],\n",
       "         [0.9850],\n",
       "         [0.7913],\n",
       "         [0.0431]],\n",
       "\n",
       "        [[0.5875],\n",
       "         [0.0844],\n",
       "         [0.9182],\n",
       "         [0.2503],\n",
       "         [0.6703],\n",
       "         [0.3548],\n",
       "         [0.9896]],\n",
       "\n",
       "        [[0.9505],\n",
       "         [0.0064],\n",
       "         [0.9063],\n",
       "         [0.0129],\n",
       "         [0.8316],\n",
       "         [0.7704],\n",
       "         [0.9866]],\n",
       "\n",
       "        [[0.5564],\n",
       "         [0.1737],\n",
       "         [0.6511],\n",
       "         [0.4541],\n",
       "         [0.1957],\n",
       "         [0.1229],\n",
       "         [0.7870]]])"
      ]
     },
     "execution_count": 401,
     "metadata": {},
     "output_type": "execute_result"
    }
   ],
   "source": [
    "three_dimension_ts2 = torch.rand(size=(5,7,1))\n",
    "three_dimension_ts2"
   ]
  },
  {
   "cell_type": "code",
   "execution_count": 402,
   "id": "b494ac4c-c9bd-4fc7-b0db-5a09da2a2c9c",
   "metadata": {},
   "outputs": [
    {
     "data": {
      "text/plain": [
       "tensor([[[1.7634],\n",
       "         [2.0844]],\n",
       "\n",
       "        [[1.3885],\n",
       "         [1.2511]],\n",
       "\n",
       "        [[1.7140],\n",
       "         [1.2650]],\n",
       "\n",
       "        [[2.6121],\n",
       "         [1.4106]],\n",
       "\n",
       "        [[1.1333],\n",
       "         [1.8874]]])"
      ]
     },
     "execution_count": 402,
     "metadata": {},
     "output_type": "execute_result"
    }
   ],
   "source": [
    "torch.matmul(three_dimension_ts1, three_dimension_ts2)"
   ]
  },
  {
   "cell_type": "markdown",
   "id": "48f17d37-b20a-4cc7-87af-646bcb397ab8",
   "metadata": {},
   "source": [
    "### Tensors Aggregation\n",
    "Finding the min, max, mean, sum, etc (tensor aggregation)"
   ]
  },
  {
   "cell_type": "code",
   "execution_count": 404,
   "id": "5d78cea7-25c7-4704-8543-197a4c89f630",
   "metadata": {},
   "outputs": [
    {
     "data": {
      "text/plain": [
       "tensor([ 0, 10, 20, 30, 40, 50, 60, 70, 80, 90])"
      ]
     },
     "execution_count": 404,
     "metadata": {},
     "output_type": "execute_result"
    }
   ],
   "source": [
    "# create a 1d tensor \n",
    "x = torch.arange(start=0, end=100, step=10)\n",
    "x"
   ]
  },
  {
   "cell_type": "code",
   "execution_count": 405,
   "id": "39d278c3-a162-4070-87d3-d5dc6684f56c",
   "metadata": {},
   "outputs": [
    {
     "data": {
      "text/plain": [
       "(tensor(0), tensor(0))"
      ]
     },
     "execution_count": 405,
     "metadata": {},
     "output_type": "execute_result"
    }
   ],
   "source": [
    "# find the min\n",
    "torch.min(x), x.min()"
   ]
  },
  {
   "cell_type": "code",
   "execution_count": 406,
   "id": "9d78c6e6-567d-4326-886b-2b938b1520ae",
   "metadata": {},
   "outputs": [],
   "source": [
    "# find the max\n",
    "## torch.max(x), x.max() \n",
    "## will give an error since its dtype is int"
   ]
  },
  {
   "cell_type": "code",
   "execution_count": 407,
   "id": "516246d7-f67e-4093-affa-d2915da9657a",
   "metadata": {},
   "outputs": [
    {
     "data": {
      "text/plain": [
       "torch.int64"
      ]
     },
     "execution_count": 407,
     "metadata": {},
     "output_type": "execute_result"
    }
   ],
   "source": [
    "x.dtype"
   ]
  },
  {
   "cell_type": "code",
   "execution_count": 408,
   "id": "8e5a93d4-fdbf-4292-ba07-56ede11de06f",
   "metadata": {},
   "outputs": [
    {
     "data": {
      "text/plain": [
       "(tensor(45.), tensor(45.))"
      ]
     },
     "execution_count": 408,
     "metadata": {},
     "output_type": "execute_result"
    }
   ],
   "source": [
    "torch.mean(x.type(torch.float32)), x.type(torch.float32).mean()"
   ]
  },
  {
   "cell_type": "code",
   "execution_count": 409,
   "id": "30dc9f66-ed53-490f-aa35-e77ec5ee46b6",
   "metadata": {},
   "outputs": [
    {
     "data": {
      "text/plain": [
       "tensor([[[0.5947, 0.4938, 0.1644, 0.6421, 0.5582],\n",
       "         [0.0612, 0.1271, 0.1759, 0.6017, 0.9165],\n",
       "         [0.4371, 0.6548, 0.4453, 0.1647, 0.1085],\n",
       "         [0.2050, 0.2136, 0.3181, 0.7638, 0.3295]],\n",
       "\n",
       "        [[0.9357, 0.0725, 0.4824, 0.0740, 0.2541],\n",
       "         [0.2981, 0.0816, 0.9880, 0.7576, 0.8718],\n",
       "         [0.8453, 0.8998, 0.7176, 0.9979, 0.7217],\n",
       "         [0.7123, 0.1716, 0.7858, 0.4330, 0.7531]],\n",
       "\n",
       "        [[0.1037, 0.6020, 0.9225, 0.0356, 0.2445],\n",
       "         [0.5483, 0.0483, 0.0889, 0.0704, 0.9765],\n",
       "         [0.6559, 0.4246, 0.3415, 0.6713, 0.8087],\n",
       "         [0.1995, 0.9792, 0.6657, 0.8383, 0.9035]]])"
      ]
     },
     "execution_count": 409,
     "metadata": {},
     "output_type": "execute_result"
    }
   ],
   "source": [
    "three_dim_tensor = torch.rand(3,4,5)\n",
    "three_dim_tensor"
   ]
  },
  {
   "cell_type": "code",
   "execution_count": 410,
   "id": "d448a4d6-0a12-44f5-92e5-5502c182d202",
   "metadata": {},
   "outputs": [
    {
     "data": {
      "text/plain": [
       "tensor(0.0356)"
      ]
     },
     "execution_count": 410,
     "metadata": {},
     "output_type": "execute_result"
    }
   ],
   "source": [
    "torch.min(three_dim_tensor)"
   ]
  },
  {
   "cell_type": "markdown",
   "id": "49355cce-d5be-4708-9945-aa9c2e25447e",
   "metadata": {},
   "source": [
    "### Finding the positional min and max"
   ]
  },
  {
   "cell_type": "code",
   "execution_count": 412,
   "id": "db5bf3e9-0ccc-4f76-b994-127cb5d7d5f1",
   "metadata": {},
   "outputs": [
    {
     "data": {
      "text/plain": [
       "tensor([ 0, 10, 20, 30, 40, 50, 60, 70, 80, 90])"
      ]
     },
     "execution_count": 412,
     "metadata": {},
     "output_type": "execute_result"
    }
   ],
   "source": [
    "x"
   ]
  },
  {
   "cell_type": "code",
   "execution_count": 447,
   "id": "e90de006-10b5-47a1-a9eb-4ad7ac1d2381",
   "metadata": {},
   "outputs": [
    {
     "data": {
      "text/plain": [
       "(tensor(0), tensor(9), tensor(0), tensor(90))"
      ]
     },
     "execution_count": 447,
     "metadata": {},
     "output_type": "execute_result"
    }
   ],
   "source": [
    "x.argmin(), x.argmax(), x[0], x[9]"
   ]
  },
  {
   "cell_type": "markdown",
   "id": "71a002e6-6cee-48a0-994f-41af783166ce",
   "metadata": {},
   "source": [
    "### Reshaping, viewing, and stacking tensors - 2.57"
   ]
  }
 ],
 "metadata": {
  "kernelspec": {
   "display_name": "Python 3 (ipykernel)",
   "language": "python",
   "name": "python3"
  },
  "language_info": {
   "codemirror_mode": {
    "name": "ipython",
    "version": 3
   },
   "file_extension": ".py",
   "mimetype": "text/x-python",
   "name": "python",
   "nbconvert_exporter": "python",
   "pygments_lexer": "ipython3",
   "version": "3.12.4"
  }
 },
 "nbformat": 4,
 "nbformat_minor": 5
}
