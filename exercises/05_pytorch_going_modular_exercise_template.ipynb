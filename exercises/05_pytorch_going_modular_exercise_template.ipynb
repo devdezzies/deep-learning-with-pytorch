{
 "cells": [
  {
   "cell_type": "markdown",
   "metadata": {
    "colab_type": "text",
    "id": "view-in-github"
   },
   "source": [
    "<a href=\"https://colab.research.google.com/github/mrdbourke/pytorch-deep-learning/blob/main/extras/exercises/05_pytorch_going_modular_exercise_template.ipynb\" target=\"_parent\"><img src=\"https://colab.research.google.com/assets/colab-badge.svg\" alt=\"Open In Colab\"/></a>"
   ]
  },
  {
   "cell_type": "markdown",
   "metadata": {
    "id": "zNqPNlYylluR"
   },
   "source": [
    "# 05. PyTorch Going Modular Exercises\n",
    "\n",
    "Welcome to the 05. PyTorch Going Modular exercise template notebook.\n",
    "\n",
    "There are several questions in this notebook and it's your goal to answer them by writing Python and PyTorch code.\n",
    "\n",
    "> **Note:** There may be more than one solution to each of the exercises, don't worry too much about the *exact* right answer. Try to write some code that works first and then improve it if you can.\n",
    "\n",
    "## Resources and solutions\n",
    "\n",
    "* These exercises/solutions are based on [section 05. PyTorch Going Modular](https://www.learnpytorch.io/05_pytorch_going_modular/) of the Learn PyTorch for Deep Learning course by Zero to Mastery.\n",
    "\n",
    "**Solutions:** \n",
    "\n",
    "Try to complete the code below *before* looking at these.\n",
    "\n",
    "* See a live [walkthrough of the solutions (errors and all) on YouTube](https://youtu.be/ijgFhMK3pp4).\n",
    "* See an example [solutions notebook for these exercises on GitHub](https://github.com/mrdbourke/pytorch-deep-learning/blob/main/extras/solutions/05_pytorch_going_modular_exercise_solutions.ipynb)."
   ]
  },
  {
   "cell_type": "markdown",
   "metadata": {
    "id": "bicbWSrPmfTU"
   },
   "source": [
    "## 1. Turn the code to get the data (from section 1. Get Data) into a Python script, such as `get_data.py`.\n",
    "\n",
    "* When you run the script using `python get_data.py` it should check if the data already exists and skip downloading if it does.\n",
    "* If the data download is successful, you should be able to access the `pizza_steak_sushi` images from the `data` directory."
   ]
  },
  {
   "cell_type": "code",
   "execution_count": 3,
   "metadata": {
    "id": "r0BCn1XIYZ8c"
   },
   "outputs": [
    {
     "name": "stdout",
     "output_type": "stream",
     "text": [
      "Writing going_modular/get_data.py\n"
     ]
    }
   ],
   "source": [
    "%%writefile going_modular/get_data.py\n",
    "\"\"\"\n",
    "contains data setup functionality\n",
    "\"\"\"\n",
    "from torchvision import datasets \n",
    "from torch.utils.data import DataLoader\n",
    "from pathlib import Path \n",
    "from zipfile import ZipFile\n",
    "import requests\n",
    "\n",
    "DATA_PATH = Path(\"going_modular/data\")\n",
    "DATA_PATH.mkdir(parents=True, exist_ok=True)\n",
    "\n",
    "IMAGE_FILE = \"pizza_sushi_steak.zip\"\n",
    "IMAGE_DIR = DATA_PATH / IMAGE_FILE\n",
    "if IMAGE_DIR.is_file():\n",
    "    print(\"image datasets already exist\")\n",
    "else:\n",
    "    print(\"creating dataset directory..\")\n",
    "    request = requests.get(\"https://github.com/mrdbourke/pytorch-deep-learning/raw/main/data/pizza_steak_sushi_20_percent.zip\")\n",
    "    with open(DATA_PATH / IMAGE_FILE, \"wb\") as f: \n",
    "        f.write(request.content)\n",
    "\n",
    "FILE_PATH = DATA_PATH / \"pizza_sushi_steak\"\n",
    "if FILE_PATH.is_dir():\n",
    "    print(\"file already extracted\")\n",
    "else:\n",
    "    print(\"extracting..\")\n",
    "    with ZipFile(IMAGE_DIR, \"r\") as zip_ref:\n",
    "        zip_ref.extractall(FILE_PATH)"
   ]
  },
  {
   "cell_type": "code",
   "execution_count": 6,
   "metadata": {
    "id": "_LrUOIC-YOP9"
   },
   "outputs": [
    {
     "name": "stdout",
     "output_type": "stream",
     "text": [
      "image datasets already exist\n",
      "file already extracted\n"
     ]
    }
   ],
   "source": [
    "# Example running of get_data.py\n",
    "!python going_modular/get_data.py"
   ]
  },
  {
   "cell_type": "markdown",
   "metadata": {
    "id": "zjyn7LU3mvkR"
   },
   "source": [
    "## 2. Use [Python's `argparse` module](https://docs.python.org/3/library/argparse.html) to be able to send the `train.py` custom hyperparameter values for training procedures.\n",
    "* Add an argument flag for using a different:\n",
    "  * Training/testing directory\n",
    "  * Learning rate\n",
    "  * Batch size\n",
    "  * Number of epochs to train for\n",
    "  * Number of hidden units in the TinyVGG model\n",
    "    * Keep the default values for each of the above arguments as what they already are (as in notebook 05).\n",
    "* For example, you should be able to run something similar to the following line to train a TinyVGG model with a learning rate of 0.003 and a batch size of 64 for 20 epochs: `python train.py --learning_rate 0.003 batch_size 64 num_epochs 20`.\n",
    "* **Note:** Since `train.py` leverages the other scripts we created in section 05, such as, `model_builder.py`, `utils.py` and `engine.py`, you'll have to make sure they're available to use too. You can find these in the [`going_modular` folder on the course GitHub](https://github.com/mrdbourke/pytorch-deep-learning/tree/main/going_modular/going_modular). "
   ]
  },
  {
   "cell_type": "code",
   "execution_count": 27,
   "metadata": {
    "id": "MKNDUp45YaW-"
   },
   "outputs": [
    {
     "name": "stdout",
     "output_type": "stream",
     "text": [
      "Overwriting going_modular/train.py\n"
     ]
    }
   ],
   "source": [
    "%%writefile going_modular/train.py\n",
    "import os \n",
    "import torch \n",
    "import data_setup, engine, model_builder, utils\n",
    "from torchvision import transforms \n",
    "import argparse\n",
    "\n",
    "parser = argparse.ArgumentParser()\n",
    "parser.add_argument(\"-e\", \"--num_epochs\", help=\"an integer to perform number of epochs\", type=int)\n",
    "parser.add_argument(\"-b\", \"--batch_size\", help=\"an integer of number of element per batch\", type=int)\n",
    "parser.add_argument(\"-hu\", \"--hidden_units\", help=\"an integer of number of hidden units per layer\", type=int)\n",
    "parser.add_argument(\"-lr\", \"--learning_rate\", help=\"a float for the learning rate\", type=float)\n",
    "\n",
    "args = parser.parse_args()\n",
    "\n",
    "# setup hyperparameters \n",
    "NUM_EPOCHS = args.num_epochs if args.num_epochs else 10\n",
    "BATCH_SIZE = args.batch_size # required\n",
    "HIDDEN_UNITS = args.hidden_units if args.hidden_units else 10\n",
    "LEARNING_RATE = args.learning_rate if args.learning_rate else 0.001\n",
    "\n",
    "# setup directories \n",
    "train_dir = \"data/pizza_sushi_steak/train\"\n",
    "test_dir = \"data/pizza_sushi_steak/test\"\n",
    "\n",
    "def main():\n",
    "    # setup device agnostic code \n",
    "    device = \"cuda\" if torch.cuda.is_available() else \"cpu\"\n",
    "\n",
    "    # create transforms\n",
    "    data_transform = transforms.Compose([\n",
    "        transforms.Resize(size=(64, 64)),\n",
    "        transforms.ToTensor()\n",
    "    ])\n",
    "\n",
    "    # create DataLoaders with help from data_setup.py\n",
    "    train_dataloader, test_dataloader, class_names = data_setup.create_dataloaders(\n",
    "        train_dir=train_dir, \n",
    "        test_dir=test_dir, \n",
    "        transform=data_transform, \n",
    "        batch_size=BATCH_SIZE\n",
    "    )\n",
    "\n",
    "    # create model with help from model_builder.py\n",
    "    model = model_builder.TinyVGG(\n",
    "        input_shape=3, \n",
    "        hidden_units=HIDDEN_UNITS, \n",
    "        output_shape=len(class_names)\n",
    "    ).to(device)\n",
    "\n",
    "    # set loss and optimizer\n",
    "    loss_fn = torch.nn.CrossEntropyLoss()\n",
    "    optimizer = torch.optim.Adam(params=model.parameters(), lr=LEARNING_RATE)\n",
    "\n",
    "    # start training with help from engine.py \n",
    "    engine.train(model=model, \n",
    "                    train_dataloader=train_dataloader, \n",
    "                    test_dataloader=test_dataloader, \n",
    "                    loss_fn=loss_fn, \n",
    "                    optimizer=optimizer, \n",
    "                    epochs=NUM_EPOCHS, \n",
    "                    device=device)\n",
    "            \n",
    "    # save the model with help from utils.py\n",
    "    utils.save_model(model=model, target_dir=\"models\", model_name=\"05_going_modular_script_mode_tinyvgg_model_exc.pt\")\n",
    "\n",
    "if __name__ == '__main__':\n",
    "    main()"
   ]
  },
  {
   "cell_type": "code",
   "execution_count": 8,
   "metadata": {
    "id": "LzaJl39lC40N"
   },
   "outputs": [
    {
     "name": "stdout",
     "output_type": "stream",
     "text": [
      "Epoch: 1 | train_loss: 1.0995 | train_acc: 0.3673 | test_loss: 1.0945 | test_acc: 0.1875\n",
      "[INFO] Saving model to: models\\05_going_modular_script_mode_tinyvgg_model_exc.pt\n"
     ]
    },
    {
     "name": "stderr",
     "output_type": "stream",
     "text": [
      "\n",
      "  0%|          | 0/5 [00:00<?, ?it/s]\n",
      " 20%|██        | 1/5 [01:38<06:32, 98.19s/it]\n",
      " 40%|████      | 2/5 [03:14<04:50, 96.85s/it]\n",
      " 60%|██████    | 3/5 [04:48<03:11, 95.85s/it]\n",
      " 80%|████████  | 4/5 [06:24<01:35, 95.80s/it]\n",
      "100%|██████████| 5/5 [07:58<00:00, 95.33s/it]\n",
      "100%|██████████| 5/5 [07:58<00:00, 95.80s/it]\n"
     ]
    }
   ],
   "source": [
    "# Example running of train.py\n",
    "!python going_modular/train.py --num_epochs 5 --batch_size 128 --hidden_units 128 --learning_rate 0.0003"
   ]
  },
  {
   "cell_type": "markdown",
   "metadata": {
    "id": "P2g6EEYvm-46"
   },
   "source": [
    "## 3. Create a Python script to predict (such as `predict.py`) on a target image given a file path with a saved model.\n",
    "\n",
    "* For example, you should be able to run the command `python predict.py some_image.jpeg` and have a trained PyTorch model predict on the image and return its prediction.\n",
    "* To see example prediction code, check out the [predicting on a custom image section in notebook 04](https://www.learnpytorch.io/04_pytorch_custom_datasets/#113-putting-custom-image-prediction-together-building-a-function). \n",
    "* You may also have to write code to load in a trained model."
   ]
  },
  {
   "cell_type": "code",
   "execution_count": 27,
   "metadata": {
    "id": "HU7W6VZfYawP"
   },
   "outputs": [
    {
     "name": "stdout",
     "output_type": "stream",
     "text": [
      "Overwriting going_modular/predict.py\n"
     ]
    }
   ],
   "source": [
    "%%writefile going_modular/predict.py\n",
    "import argparse\n",
    "import torch \n",
    "import matplotlib.pyplot as plt \n",
    "import requests\n",
    "from PIL import Image\n",
    "from torchvision import transforms\n",
    "import data_setup, model_builder\n",
    "\n",
    "parser = argparse.ArgumentParser()\n",
    "parser.add_argument(\"-i\", \"--image\", help=\"string of url to the image\", type=str)\n",
    "args = parser.parse_args()\n",
    "\n",
    "URL = args.image # required\n",
    "\n",
    "tf = transforms.Compose([\n",
    "        transforms.Resize(size=(64, 64)),\n",
    "        transforms.ToTensor()\n",
    "])\n",
    "\n",
    "# setup directories \n",
    "train_dir = \"going_modular/data/pizza_sushi_steak/train\"\n",
    "test_dir = \"going_modular/data/pizza_sushi_steak/test\"\n",
    "\n",
    "_, _, class_names = data_setup.create_dataloaders(train_dir=train_dir, test_dir=test_dir, transform=tf, batch_size=32)\n",
    "\n",
    "# load saved model \n",
    "loaded_model = model_builder.TinyVGG(input_shape=3, hidden_units=128, output_shape=len(class_names))\n",
    "loaded_model.load_state_dict(torch.load(\"models/05_going_modular_script_mode_tinyvgg_model_exc.pt\", weights_only=True))\n",
    "\n",
    "def pred_and_plot(model: torch.nn.Module, \n",
    "                    image_path: str,\n",
    "                    transform: transforms.Compose,\n",
    "                    class_names: list[str] = None):\n",
    "        # load image\n",
    "        img = Image.open(requests.get(image_path, stream=True).raw).convert(\"RGB\")\n",
    "        # setup transformed image \n",
    "        transformed_img = transform(img)\n",
    "        # forward pass \n",
    "        logits = model(transformed_img.unsqueeze(dim=0))\n",
    "        pred = torch.softmax(logits, dim=-1).argmax(dim=-1)\n",
    "        # plot the image along with the label \n",
    "        plt.imshow(transformed_img.permute(1, 2, 0))\n",
    "        title = f\"{class_names[pred]} | {torch.softmax(logits, dim=-1).squeeze()[pred].item():.3f}\"\n",
    "        plt.title(title)\n",
    "        print(title)\n",
    "\n",
    "pred_and_plot(model=loaded_model, image_path=URL, \n",
    "                transform=tf, class_names=class_names)"
   ]
  },
  {
   "cell_type": "code",
   "execution_count": 31,
   "metadata": {
    "id": "Zcvw9sitIn6r"
   },
   "outputs": [
    {
     "name": "stdout",
     "output_type": "stream",
     "text": [
      "sushi | 0.426\n"
     ]
    }
   ],
   "source": [
    "# Example running of predict.py \n",
    "!python going_modular/predict.py --image https://asset.kompas.com/crops/ygZlQa2c9c9GcnF3CDDfQuU4vFE=/0x0:1000x667/750x500/data/photo/2022/12/27/63aa85776cf9e.jpg"
   ]
  }
 ],
 "metadata": {
  "accelerator": "GPU",
  "colab": {
   "authorship_tag": "ABX9TyNcX0JATB1YsaAFGNe0TGWq",
   "collapsed_sections": [],
   "include_colab_link": true,
   "name": "05_pytorch_going_modular_exercise_template.ipynb",
   "provenance": []
  },
  "kernelspec": {
   "display_name": "Python 3 (ipykernel)",
   "language": "python",
   "name": "python3"
  },
  "language_info": {
   "codemirror_mode": {
    "name": "ipython",
    "version": 3
   },
   "file_extension": ".py",
   "mimetype": "text/x-python",
   "name": "python",
   "nbconvert_exporter": "python",
   "pygments_lexer": "ipython3",
   "version": "3.12.3"
  }
 },
 "nbformat": 4,
 "nbformat_minor": 4
}
