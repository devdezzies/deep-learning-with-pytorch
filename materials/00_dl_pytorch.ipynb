{
 "cells": [
  {
   "cell_type": "markdown",
   "id": "d31b0c18",
   "metadata": {
    "panel-layout": {
     "height": -10,
     "visible": true,
     "width": 100
    }
   },
   "source": [
    "## Introduction to Tensors"
   ]
  },
  {
   "cell_type": "code",
   "execution_count": 2,
   "id": "c2ca6103",
   "metadata": {
    "panel-layout": {
     "height": -10,
     "visible": true,
     "width": 100
    }
   },
   "outputs": [
    {
     "name": "stdout",
     "output_type": "stream",
     "text": [
      "PyTorch version:  2.4.0\n",
      "CUDA available:  True\n",
      "CUDA device count:  1\n",
      "CUDA device name:  NVIDIA GeForce GTX 1650\n"
     ]
    }
   ],
   "source": [
    "import torch \n",
    "\n",
    "print(\"PyTorch version: \", torch.__version__)\n",
    "print(\"CUDA available: \", torch.cuda.is_available())\n",
    "print(\"CUDA device count: \", torch.cuda.device_count())\n",
    "print(\"CUDA device name: \", torch.cuda.get_device_name(0))"
   ]
  },
  {
   "cell_type": "code",
   "execution_count": 145,
   "id": "0505e444",
   "metadata": {},
   "outputs": [],
   "source": [
    "def get_tensor_information(ts: torch.tensor):\n",
    "    print(f'tensor size: {ts.shape}')\n",
    "    print(f'tensor device: {ts.device}')"
   ]
  },
  {
   "cell_type": "code",
   "execution_count": 146,
   "id": "e0de30ee",
   "metadata": {
    "panel-layout": {
     "height": -10,
     "visible": true,
     "width": 100
    }
   },
   "outputs": [
    {
     "data": {
      "text/plain": [
       "tensor([[[0.5904, 0.6163, 0.2682],\n",
       "         [0.9415, 0.9526, 0.4654],\n",
       "         [0.5286, 0.4651, 0.0111],\n",
       "         ...,\n",
       "         [0.2726, 0.9292, 0.0063],\n",
       "         [0.8688, 0.8713, 0.1433],\n",
       "         [0.9343, 0.1997, 0.4044]],\n",
       "\n",
       "        [[0.6491, 0.1013, 0.3360],\n",
       "         [0.3177, 0.6092, 0.1338],\n",
       "         [0.1465, 0.8783, 0.7093],\n",
       "         ...,\n",
       "         [0.1090, 0.9328, 0.4559],\n",
       "         [0.1245, 0.6122, 0.3091],\n",
       "         [0.4827, 0.4753, 0.8246]],\n",
       "\n",
       "        [[0.3454, 0.1510, 0.2287],\n",
       "         [0.0080, 0.0090, 0.0589],\n",
       "         [0.6208, 0.9899, 0.7778],\n",
       "         ...,\n",
       "         [0.6733, 0.6867, 0.7278],\n",
       "         [0.3530, 0.2606, 0.2246],\n",
       "         [0.0130, 0.2943, 0.2947]],\n",
       "\n",
       "        ...,\n",
       "\n",
       "        [[0.4067, 0.4521, 0.0997],\n",
       "         [0.2042, 0.3346, 0.4879],\n",
       "         [0.1846, 0.6161, 0.9020],\n",
       "         ...,\n",
       "         [0.4859, 0.4467, 0.4521],\n",
       "         [0.4847, 0.4499, 0.7140],\n",
       "         [0.2897, 0.5344, 0.2330]],\n",
       "\n",
       "        [[0.5929, 0.5906, 0.9139],\n",
       "         [0.5211, 0.8002, 0.7054],\n",
       "         [0.9015, 0.4265, 0.5482],\n",
       "         ...,\n",
       "         [0.8456, 0.7393, 0.0444],\n",
       "         [0.3552, 0.4637, 0.1596],\n",
       "         [0.8028, 0.7612, 0.6465]],\n",
       "\n",
       "        [[0.0713, 0.0392, 0.5040],\n",
       "         [0.2731, 0.0521, 0.8167],\n",
       "         [0.8119, 0.0302, 0.5265],\n",
       "         ...,\n",
       "         [0.5679, 0.3361, 0.5428],\n",
       "         [0.4110, 0.7095, 0.2108],\n",
       "         [0.8809, 0.6649, 0.5604]]], device='cuda:0')"
      ]
     },
     "execution_count": 146,
     "metadata": {},
     "output_type": "execute_result"
    }
   ],
   "source": [
    "tensor = torch.rand(size=(244, 244, 3), dtype=torch.float32, device='cuda')\n",
    "tensor"
   ]
  },
  {
   "cell_type": "code",
   "execution_count": 147,
   "id": "badab4e2",
   "metadata": {
    "panel-layout": {
     "height": -10,
     "visible": true,
     "width": 100
    }
   },
   "outputs": [
    {
     "name": "stdout",
     "output_type": "stream",
     "text": [
      "tensor size: torch.Size([244, 244, 3])\n",
      "tensor device: cuda:0\n"
     ]
    }
   ],
   "source": [
    "get_tensor_information(ts=tensor)"
   ]
  },
  {
   "cell_type": "code",
   "execution_count": 148,
   "id": "ae9fa74c",
   "metadata": {
    "panel-layout": {
     "height": -10,
     "visible": true,
     "width": 100
    }
   },
   "outputs": [
    {
     "data": {
      "text/plain": [
       "tensor([1, 2, 3], dtype=torch.int32)"
      ]
     },
     "execution_count": 148,
     "metadata": {},
     "output_type": "execute_result"
    }
   ],
   "source": [
    "int_32_tensor = torch.tensor(dtype=torch.int32, data=[1,2,3])\n",
    "int_32_tensor"
   ]
  },
  {
   "cell_type": "code",
   "execution_count": 149,
   "id": "48956fc1",
   "metadata": {
    "panel-layout": {
     "height": -10,
     "visible": true,
     "width": 100
    }
   },
   "outputs": [
    {
     "data": {
      "text/plain": [
       "1"
      ]
     },
     "execution_count": 149,
     "metadata": {},
     "output_type": "execute_result"
    }
   ],
   "source": [
    "int_32_tensor.ndim"
   ]
  },
  {
   "cell_type": "code",
   "execution_count": 150,
   "id": "22ca91f1",
   "metadata": {
    "panel-layout": {
     "height": -10,
     "visible": true,
     "width": 100
    }
   },
   "outputs": [
    {
     "data": {
      "text/plain": [
       "torch.Size([3])"
      ]
     },
     "execution_count": 150,
     "metadata": {},
     "output_type": "execute_result"
    }
   ],
   "source": [
    "int_32_tensor.shape"
   ]
  },
  {
   "cell_type": "code",
   "execution_count": 151,
   "id": "809559da",
   "metadata": {
    "panel-layout": {
     "height": -10,
     "visible": true,
     "width": 100
    }
   },
   "outputs": [
    {
     "data": {
      "text/plain": [
       "tensor([[0.4616, 0.1931, 0.9081, 0.7012, 0.4511],\n",
       "        [0.2540, 0.6338, 0.3720, 0.3937, 0.4158],\n",
       "        [0.3141, 0.0032, 0.6912, 0.3702, 0.0270],\n",
       "        [0.2201, 0.1360, 0.3317, 0.5385, 0.5064],\n",
       "        [0.3563, 0.8837, 0.6803, 0.5643, 0.8072]])"
      ]
     },
     "execution_count": 151,
     "metadata": {},
     "output_type": "execute_result"
    }
   ],
   "source": [
    "random_tensor = torch.rand(size=(5,5))\n",
    "random_tensor"
   ]
  },
  {
   "cell_type": "code",
   "execution_count": 152,
   "id": "ff49807e",
   "metadata": {
    "panel-layout": {
     "height": -10,
     "visible": true,
     "width": 100
    }
   },
   "outputs": [
    {
     "data": {
      "text/plain": [
       "tensor([[0.8624, 0.7084, 1.6582, 1.3680, 1.0322],\n",
       "        [0.6299, 0.8729, 1.1371, 1.0121, 0.9232],\n",
       "        [0.4540, 0.1391, 0.9054, 0.6920, 0.3709],\n",
       "        [0.5393, 0.6505, 1.0029, 0.9064, 0.8462],\n",
       "        [1.0145, 1.4211, 1.8590, 1.6091, 1.4839]])"
      ]
     },
     "execution_count": 152,
     "metadata": {},
     "output_type": "execute_result"
    }
   ],
   "source": [
    "torch.matmul(random_tensor, random_tensor)"
   ]
  },
  {
   "cell_type": "code",
   "execution_count": 153,
   "id": "c86a800a",
   "metadata": {
    "panel-layout": {
     "height": -10,
     "visible": true,
     "width": 100
    }
   },
   "outputs": [
    {
     "data": {
      "text/plain": [
       "tensor([[0.8624, 0.7084, 1.6582, 1.3680, 1.0322],\n",
       "        [0.6299, 0.8729, 1.1371, 1.0121, 0.9232],\n",
       "        [0.4540, 0.1391, 0.9054, 0.6920, 0.3709],\n",
       "        [0.5393, 0.6505, 1.0029, 0.9064, 0.8462],\n",
       "        [1.0145, 1.4211, 1.8590, 1.6091, 1.4839]])"
      ]
     },
     "execution_count": 153,
     "metadata": {},
     "output_type": "execute_result"
    }
   ],
   "source": [
    "torch.matmul(random_tensor, random_tensor)"
   ]
  },
  {
   "cell_type": "code",
   "execution_count": 154,
   "id": "f62e544f",
   "metadata": {
    "panel-layout": {
     "height": -10,
     "visible": true,
     "width": 100
    }
   },
   "outputs": [
    {
     "data": {
      "text/plain": [
       "tensor([1, 2, 3])"
      ]
     },
     "execution_count": 154,
     "metadata": {},
     "output_type": "execute_result"
    }
   ],
   "source": [
    "a_tensor = torch.tensor(data=[1,2,3])\n",
    "a_tensor"
   ]
  },
  {
   "cell_type": "code",
   "execution_count": 155,
   "id": "e076411e",
   "metadata": {
    "panel-layout": {
     "height": -10,
     "visible": true,
     "width": 100
    }
   },
   "outputs": [
    {
     "data": {
      "text/plain": [
       "torch.Size([3])"
      ]
     },
     "execution_count": 155,
     "metadata": {},
     "output_type": "execute_result"
    }
   ],
   "source": [
    "a_tensor.shape"
   ]
  },
  {
   "cell_type": "markdown",
   "id": "d9048141",
   "metadata": {
    "panel-layout": {
     "height": -10,
     "visible": true,
     "width": 100
    }
   },
   "source": [
    "### Manipulating Tensors\n",
    "\n",
    "Tensor operations include: \n",
    "- addition\n",
    "- substraction\n",
    "- multiplication (element-wise)\n",
    "- division\n",
    "- matrix multiplication"
   ]
  },
  {
   "cell_type": "code",
   "execution_count": 157,
   "id": "31f7a32b",
   "metadata": {
    "panel-layout": {
     "height": -10,
     "visible": true,
     "width": 100
    }
   },
   "outputs": [
    {
     "data": {
      "text/plain": [
       "tensor([1, 2, 3])"
      ]
     },
     "execution_count": 157,
     "metadata": {},
     "output_type": "execute_result"
    }
   ],
   "source": [
    "#create a tensor\n",
    "ts = torch.tensor([1, 2, 3])\n",
    "ts"
   ]
  },
  {
   "cell_type": "code",
   "execution_count": 158,
   "id": "cfed0aef",
   "metadata": {
    "panel-layout": {
     "height": -10,
     "visible": true,
     "width": 100
    }
   },
   "outputs": [
    {
     "data": {
      "text/plain": [
       "tensor([10, 20, 30])"
      ]
     },
     "execution_count": 158,
     "metadata": {},
     "output_type": "execute_result"
    }
   ],
   "source": [
    "ts = ts * 10\n",
    "ts"
   ]
  },
  {
   "cell_type": "code",
   "execution_count": 159,
   "id": "64522aab",
   "metadata": {
    "panel-layout": {
     "height": -10,
     "visible": true,
     "width": 100
    }
   },
   "outputs": [
    {
     "data": {
      "text/plain": [
       "tensor([100, 200, 300])"
      ]
     },
     "execution_count": 159,
     "metadata": {},
     "output_type": "execute_result"
    }
   ],
   "source": [
    "# using pytorch in-built functions\n",
    "torch.mul(ts, 10)"
   ]
  },
  {
   "cell_type": "markdown",
   "id": "81a1dc8c",
   "metadata": {
    "panel-layout": {
     "height": -10,
     "visible": true,
     "width": 100
    }
   },
   "source": [
    "### Matrix multiplication\n",
    "\n",
    "There are two main ways to perform matrix multiplication:\n",
    "1. element-wise\n",
    "2. dot-product\n",
    "\n",
    "There are two main rules that peforming matrix multiplication needs to satisfy: \n",
    "1. the **inner dimensions** must match:\n",
    "   - `(3, 2) @ (3, 2)` won't work\n",
    "   - `(3, 2) @ (2, 3)` will work\n",
    "2. the resulting matrix has the shape of the **outer dimension**:\n",
    "   - `(2, 3) @ (3, 2)` -> `(2,2)`\n",
    "  \n",
    "playground - http://matrixmultiplication.xyz/"
   ]
  },
  {
   "cell_type": "code",
   "execution_count": 161,
   "id": "81883760",
   "metadata": {
    "panel-layout": {
     "height": -10,
     "visible": true,
     "width": 100
    }
   },
   "outputs": [
    {
     "data": {
      "text/plain": [
       "tensor([[0.6669, 1.1584, 0.7954],\n",
       "        [0.3683, 1.1317, 0.9053],\n",
       "        [0.1107, 0.2540, 0.1905]])"
      ]
     },
     "execution_count": 161,
     "metadata": {},
     "output_type": "execute_result"
    }
   ],
   "source": [
    "torch.matmul(torch.rand(3, 2), torch.rand(2, 3))"
   ]
  },
  {
   "cell_type": "code",
   "execution_count": 162,
   "id": "1a659c3a",
   "metadata": {},
   "outputs": [
    {
     "name": "stdout",
     "output_type": "stream",
     "text": [
      "CPU times: total: 0 ns\n",
      "Wall time: 0 ns\n"
     ]
    },
    {
     "data": {
      "text/plain": [
       "tensor(14)"
      ]
     },
     "execution_count": 162,
     "metadata": {},
     "output_type": "execute_result"
    }
   ],
   "source": [
    "%%time\n",
    "torch.matmul(a_tensor, a_tensor)\n",
    "## For 2D tensors (matrices): torch.matmul(A, B) performs matrix multiplication.\n",
    "## For 1D tensors (vectors): torch.matmul(a, b) performs the dot product if one of the tensors is 1D and the other is 2D or if both are 1D."
   ]
  },
  {
   "cell_type": "markdown",
   "id": "01a294b2",
   "metadata": {
    "panel-layout": {
     "height": -10,
     "visible": true,
     "width": 100
    }
   },
   "source": [
    "### one of the most common errors in deep learning: shape errors"
   ]
  },
  {
   "cell_type": "code",
   "execution_count": 164,
   "id": "16df1991",
   "metadata": {},
   "outputs": [],
   "source": [
    "# shapes for matrix multiplication\n",
    "tensor_a = torch.tensor([[1,2],\n",
    "                         [3,2],\n",
    "                         [4,3]])\n",
    "tensor_b = torch.tensor([[2,3],\n",
    "                         [4,3],\n",
    "                         [6,7]])\n",
    "## these tensors cannot be multiplied because the inner dimensions aren't the same\n",
    "## we need to perform matrix transpose"
   ]
  },
  {
   "cell_type": "code",
   "execution_count": 165,
   "id": "fa4c08ee",
   "metadata": {
    "panel-layout": {
     "height": -10,
     "visible": true,
     "width": 100
    }
   },
   "outputs": [
    {
     "data": {
      "text/plain": [
       "(torch.Size([3, 2]), torch.Size([3, 2]))"
      ]
     },
     "execution_count": 165,
     "metadata": {},
     "output_type": "execute_result"
    }
   ],
   "source": [
    "tensor_a.shape, tensor_b.shape"
   ]
  },
  {
   "cell_type": "markdown",
   "id": "c7e63ae6",
   "metadata": {
    "panel-layout": {
     "height": -10,
     "visible": true,
     "width": 100
    }
   },
   "source": [
    "To fix tensor shape issues, we can manipulate the shape of one of our tensors using a **transpose**."
   ]
  },
  {
   "cell_type": "code",
   "execution_count": 167,
   "id": "5073405e",
   "metadata": {
    "panel-layout": {
     "height": -10,
     "visible": true,
     "width": 100
    }
   },
   "outputs": [
    {
     "name": "stdout",
     "output_type": "stream",
     "text": [
      "Original size of matrix a = torch.Size([3, 2]) and matrix b = torch.Size([3, 2])\n",
      "They cannot be multiplied since their inner dimensions don't match\n",
      "\n",
      "We can perform a matrix manipulation to one of the matrices\n",
      "Transposed matrix b: tensor([[2, 4, 6],\n",
      "        [3, 3, 7]])\n",
      "matrix b.T still contains the same information as the original matrix b\n",
      "\n",
      "Now these matrices have the same inner dimension a = torch.Size([3, 2]); b = torch.Size([2, 3])\n"
     ]
    }
   ],
   "source": [
    "print(f\"Original size of matrix a = {tensor_a.shape} and matrix b = {tensor_b.shape}\")\n",
    "print(f\"They cannot be multiplied since their inner dimensions don't match\")\n",
    "print(f\"\\nWe can perform a matrix manipulation to one of the matrices\")\n",
    "print(f\"Transposed matrix b: {tensor_b.T}\")\n",
    "print(\"matrix b.T still contains the same information as the original matrix b\")\n",
    "print(f\"\\nNow these matrices have the same inner dimension a = {tensor_a.shape}; b = {tensor_b.T.shape}\")"
   ]
  },
  {
   "cell_type": "code",
   "execution_count": 168,
   "id": "dbd464bd",
   "metadata": {
    "panel-layout": {
     "height": -10,
     "visible": true,
     "width": 100
    }
   },
   "outputs": [
    {
     "data": {
      "text/plain": [
       "tensor([[ 8, 10, 20],\n",
       "        [12, 18, 32],\n",
       "        [17, 25, 45]])"
      ]
     },
     "execution_count": 168,
     "metadata": {},
     "output_type": "execute_result"
    }
   ],
   "source": [
    "multiplied_matrices = torch.matmul(tensor_a, tensor_b.T)\n",
    "multiplied_matrices"
   ]
  },
  {
   "cell_type": "markdown",
   "id": "7a41d739",
   "metadata": {
    "panel-layout": {
     "height": -10,
     "visible": true,
     "width": 100
    }
   },
   "source": [
    "### 3D tensors multiplication\n",
    "For tensors A with shape (B, M, N) and B with shape (B, N, P), where B is the batch size:\n",
    "The last dimension of A (size N) must match the second-to-last dimension of B (also size N).\n",
    "The resulting tensor will have shape (B, M, P)."
   ]
  },
  {
   "cell_type": "code",
   "execution_count": 170,
   "id": "4b9b685f",
   "metadata": {
    "panel-layout": {
     "height": -10,
     "visible": true,
     "width": 100
    }
   },
   "outputs": [
    {
     "data": {
      "text/plain": [
       "tensor([[[0.9792, 0.5916, 0.6480, 0.2012, 0.4116, 0.5660, 0.1653],\n",
       "         [0.8036, 0.2433, 0.8742, 0.4764, 0.0940, 0.5091, 0.2099]],\n",
       "\n",
       "        [[0.6341, 0.1848, 0.2307, 0.2465, 0.9886, 0.8422, 0.1126],\n",
       "         [0.8342, 0.6953, 0.6705, 0.6000, 0.2178, 0.8318, 0.4849]],\n",
       "\n",
       "        [[0.8131, 0.9017, 0.5346, 0.1460, 0.9409, 0.0096, 0.2617],\n",
       "         [0.0436, 0.6678, 0.6411, 0.2986, 0.0234, 0.9415, 0.9009]],\n",
       "\n",
       "        [[0.3647, 0.6253, 0.1005, 0.3377, 0.3207, 0.7800, 0.2217],\n",
       "         [0.6796, 0.7060, 0.1853, 0.8315, 0.3965, 0.4804, 0.0223]],\n",
       "\n",
       "        [[0.1771, 0.2697, 0.6300, 0.8726, 0.8202, 0.5205, 0.5117],\n",
       "         [0.5762, 0.1266, 0.0970, 0.6497, 0.6526, 0.8365, 0.4009]]])"
      ]
     },
     "execution_count": 170,
     "metadata": {},
     "output_type": "execute_result"
    }
   ],
   "source": [
    "three_dimension_ts1 = torch.rand(size=(5, 2, 7))\n",
    "three_dimension_ts1"
   ]
  },
  {
   "cell_type": "code",
   "execution_count": 171,
   "id": "e47f81e2",
   "metadata": {
    "panel-layout": {
     "height": -10,
     "visible": true,
     "width": 100
    }
   },
   "outputs": [
    {
     "data": {
      "text/plain": [
       "tensor([[[0.3007],\n",
       "         [0.2591],\n",
       "         [0.9153],\n",
       "         [0.6505],\n",
       "         [0.2475],\n",
       "         [0.9388],\n",
       "         [0.0623]],\n",
       "\n",
       "        [[0.0678],\n",
       "         [0.1897],\n",
       "         [0.3446],\n",
       "         [0.9484],\n",
       "         [0.1479],\n",
       "         [0.8436],\n",
       "         [0.3454]],\n",
       "\n",
       "        [[0.7430],\n",
       "         [0.1851],\n",
       "         [0.7432],\n",
       "         [0.9532],\n",
       "         [0.6149],\n",
       "         [0.6040],\n",
       "         [0.2260]],\n",
       "\n",
       "        [[0.1321],\n",
       "         [0.7898],\n",
       "         [0.8037],\n",
       "         [0.7510],\n",
       "         [0.0717],\n",
       "         [0.2487],\n",
       "         [0.4965]],\n",
       "\n",
       "        [[0.4696],\n",
       "         [0.6931],\n",
       "         [0.6916],\n",
       "         [0.2630],\n",
       "         [0.9885],\n",
       "         [0.1822],\n",
       "         [0.2685]]])"
      ]
     },
     "execution_count": 171,
     "metadata": {},
     "output_type": "execute_result"
    }
   ],
   "source": [
    "three_dimension_ts2 = torch.rand(size=(5,7,1))\n",
    "three_dimension_ts2"
   ]
  },
  {
   "cell_type": "code",
   "execution_count": 172,
   "id": "2c798484",
   "metadata": {
    "panel-layout": {
     "height": -10,
     "visible": true,
     "width": 100
    }
   },
   "outputs": [
    {
     "data": {
      "text/plain": [
       "tensor([[[1.8152],\n",
       "         [1.9290]],\n",
       "\n",
       "        [[1.2869],\n",
       "         [1.8900]],\n",
       "\n",
       "        [[1.9510],\n",
       "         [1.7037]],\n",
       "\n",
       "        [[1.2035],\n",
       "         [1.5797]],\n",
       "\n",
       "        [[1.9783],\n",
       "         [1.5015]]])"
      ]
     },
     "execution_count": 172,
     "metadata": {},
     "output_type": "execute_result"
    }
   ],
   "source": [
    "torch.matmul(three_dimension_ts1, three_dimension_ts2)"
   ]
  },
  {
   "cell_type": "markdown",
   "id": "a0dc1be3",
   "metadata": {
    "panel-layout": {
     "height": -10,
     "visible": true,
     "width": 100
    }
   },
   "source": [
    "### Tensors Aggregation\n",
    "Finding the min, max, mean, sum, etc (tensor aggregation)"
   ]
  },
  {
   "cell_type": "code",
   "execution_count": 174,
   "id": "5d3f817f",
   "metadata": {
    "panel-layout": {
     "height": -10,
     "visible": true,
     "width": 100
    }
   },
   "outputs": [
    {
     "data": {
      "text/plain": [
       "tensor([ 0, 10, 20, 30, 40, 50, 60, 70, 80, 90])"
      ]
     },
     "execution_count": 174,
     "metadata": {},
     "output_type": "execute_result"
    }
   ],
   "source": [
    "# create a 1d tensor \n",
    "x = torch.arange(start=0, end=100, step=10)\n",
    "x"
   ]
  },
  {
   "cell_type": "code",
   "execution_count": 175,
   "id": "f3c0fa6c",
   "metadata": {
    "panel-layout": {
     "height": -10,
     "visible": true,
     "width": 100
    }
   },
   "outputs": [
    {
     "data": {
      "text/plain": [
       "(tensor(0), tensor(0))"
      ]
     },
     "execution_count": 175,
     "metadata": {},
     "output_type": "execute_result"
    }
   ],
   "source": [
    "# find the min\n",
    "torch.min(x), x.min()"
   ]
  },
  {
   "cell_type": "code",
   "execution_count": 176,
   "id": "644ef003",
   "metadata": {},
   "outputs": [],
   "source": [
    "# find the max\n",
    "## torch.max(x), x.max() \n",
    "## will give an error since its dtype is int"
   ]
  },
  {
   "cell_type": "code",
   "execution_count": 177,
   "id": "61c09943",
   "metadata": {
    "panel-layout": {
     "height": -10,
     "visible": true,
     "width": 100
    }
   },
   "outputs": [
    {
     "data": {
      "text/plain": [
       "torch.int64"
      ]
     },
     "execution_count": 177,
     "metadata": {},
     "output_type": "execute_result"
    }
   ],
   "source": [
    "x.dtype"
   ]
  },
  {
   "cell_type": "code",
   "execution_count": 178,
   "id": "be2307ad",
   "metadata": {
    "panel-layout": {
     "height": -10,
     "visible": true,
     "width": 100
    }
   },
   "outputs": [
    {
     "data": {
      "text/plain": [
       "(tensor(45.), tensor(45.))"
      ]
     },
     "execution_count": 178,
     "metadata": {},
     "output_type": "execute_result"
    }
   ],
   "source": [
    "torch.mean(x.type(torch.float32)), x.type(torch.float32).mean()"
   ]
  },
  {
   "cell_type": "code",
   "execution_count": 179,
   "id": "22d45e87",
   "metadata": {
    "panel-layout": {
     "height": -10,
     "visible": true,
     "width": 100
    }
   },
   "outputs": [
    {
     "data": {
      "text/plain": [
       "tensor([[[0.3228, 0.8969, 0.9265, 0.5376, 0.4329],\n",
       "         [0.0527, 0.2495, 0.4521, 0.0107, 0.5801],\n",
       "         [0.1347, 0.2516, 0.8805, 0.2787, 0.0993],\n",
       "         [0.2075, 0.0159, 0.3399, 0.9333, 0.7788]],\n",
       "\n",
       "        [[0.8409, 0.4047, 0.7687, 0.8850, 0.3130],\n",
       "         [0.8999, 0.7674, 0.4619, 0.6300, 0.4086],\n",
       "         [0.5013, 0.5331, 0.3427, 0.7516, 0.1924],\n",
       "         [0.0819, 0.8963, 0.9758, 0.2010, 0.0741]],\n",
       "\n",
       "        [[0.6645, 0.5485, 0.9966, 0.3861, 0.7572],\n",
       "         [0.9555, 0.4507, 0.2430, 0.1926, 0.5652],\n",
       "         [0.2393, 0.0394, 0.5275, 0.9876, 0.1265],\n",
       "         [0.3006, 0.2623, 0.8119, 0.1858, 0.8745]]])"
      ]
     },
     "execution_count": 179,
     "metadata": {},
     "output_type": "execute_result"
    }
   ],
   "source": [
    "three_dim_tensor = torch.rand(3,4,5)\n",
    "three_dim_tensor"
   ]
  },
  {
   "cell_type": "code",
   "execution_count": 180,
   "id": "a16bee26",
   "metadata": {
    "panel-layout": {
     "height": -10,
     "visible": true,
     "width": 100
    }
   },
   "outputs": [
    {
     "data": {
      "text/plain": [
       "tensor(0.0107)"
      ]
     },
     "execution_count": 180,
     "metadata": {},
     "output_type": "execute_result"
    }
   ],
   "source": [
    "torch.min(three_dim_tensor)"
   ]
  },
  {
   "cell_type": "markdown",
   "id": "b97dde52",
   "metadata": {
    "panel-layout": {
     "height": -10,
     "visible": true,
     "width": 100
    }
   },
   "source": [
    "## Finding the positional min and max"
   ]
  },
  {
   "cell_type": "code",
   "execution_count": 182,
   "id": "894cd552",
   "metadata": {
    "panel-layout": {
     "height": -10,
     "visible": true,
     "width": 100
    }
   },
   "outputs": [
    {
     "data": {
      "text/plain": [
       "tensor([ 0, 10, 20, 30, 40, 50, 60, 70, 80, 90])"
      ]
     },
     "execution_count": 182,
     "metadata": {},
     "output_type": "execute_result"
    }
   ],
   "source": [
    "x"
   ]
  },
  {
   "cell_type": "code",
   "execution_count": 183,
   "id": "de5accc9",
   "metadata": {
    "panel-layout": {
     "height": -10,
     "visible": true,
     "width": 100
    }
   },
   "outputs": [
    {
     "data": {
      "text/plain": [
       "(tensor(0), tensor(9), tensor(0), tensor(90))"
      ]
     },
     "execution_count": 183,
     "metadata": {},
     "output_type": "execute_result"
    }
   ],
   "source": [
    "x.argmin(), x.argmax(), x[0], x[9]"
   ]
  },
  {
   "cell_type": "markdown",
   "id": "aa4f7599",
   "metadata": {
    "panel-layout": {
     "height": -10,
     "visible": true,
     "width": 100
    }
   },
   "source": [
    "## Reshaping, viewing, and stacking tensors - 2.57\n",
    "\n",
    "* Reshaping - reshapes an input tensor to a defined shape\n",
    "* View - return a view of an input tensor of certain shape but keep the same memory as the original tensor (viewing a tensor from a different perspective)\n",
    "* Stacking - combine multiple tensors on top of each other\n",
    "* Squeeze - removes all `1` dimensions from a tensor\n",
    "* Unsqueeze - add a `1` dimension to a target tensor\n",
    "* Permute - return a view of the input with dimension permuted (swapped) in a certain way"
   ]
  },
  {
   "cell_type": "code",
   "execution_count": 185,
   "id": "ae346ab3",
   "metadata": {
    "panel-layout": {
     "height": -10,
     "visible": true,
     "width": 100
    }
   },
   "outputs": [
    {
     "data": {
      "text/plain": [
       "(tensor([1., 2., 3., 4., 5., 6., 7., 8., 9.]), torch.Size([9]))"
      ]
     },
     "execution_count": 185,
     "metadata": {},
     "output_type": "execute_result"
    }
   ],
   "source": [
    "# create a tensor  \n",
    "x = torch.arange(1., 10.)\n",
    "x, x.shape"
   ]
  },
  {
   "cell_type": "code",
   "execution_count": 186,
   "id": "e7a72d0e",
   "metadata": {},
   "outputs": [
    {
     "data": {
      "text/plain": [
       "(tensor([[1., 2., 3., 4., 5., 6., 7., 8., 9.]]), torch.Size([1, 9]), 2)"
      ]
     },
     "execution_count": 186,
     "metadata": {},
     "output_type": "execute_result"
    }
   ],
   "source": [
    "x_reshape = x.reshape(1, 9)\n",
    "x_reshape, x_reshape.shape, x_reshape.ndim\n",
    "## now the tensor become a 2d tensor"
   ]
  },
  {
   "cell_type": "code",
   "execution_count": 187,
   "id": "8c13c34b",
   "metadata": {
    "panel-layout": {
     "height": -10,
     "visible": true,
     "width": 100
    }
   },
   "outputs": [
    {
     "data": {
      "text/plain": [
       "(tensor([[1.],\n",
       "         [2.],\n",
       "         [3.],\n",
       "         [4.],\n",
       "         [5.],\n",
       "         [6.],\n",
       "         [7.],\n",
       "         [8.],\n",
       "         [9.]]),\n",
       " torch.Size([9, 1]),\n",
       " 2)"
      ]
     },
     "execution_count": 187,
     "metadata": {},
     "output_type": "execute_result"
    }
   ],
   "source": [
    "x_reshape = x.reshape(9,1)\n",
    "x_reshape, x_reshape.shape, x_reshape.ndim"
   ]
  },
  {
   "cell_type": "code",
   "execution_count": 188,
   "id": "9690208f",
   "metadata": {
    "panel-layout": {
     "height": -10,
     "visible": true,
     "width": 100
    }
   },
   "outputs": [
    {
     "data": {
      "text/plain": [
       "(tensor([ 1.,  2.,  3.,  4.,  5.,  6.,  7.,  8.,  9., 10.]), torch.Size([10]))"
      ]
     },
     "execution_count": 188,
     "metadata": {},
     "output_type": "execute_result"
    }
   ],
   "source": [
    "x = torch.arange(1., 11.)\n",
    "x, x.shape"
   ]
  },
  {
   "cell_type": "code",
   "execution_count": 189,
   "id": "f61d83b3",
   "metadata": {
    "panel-layout": {
     "height": -10,
     "visible": true,
     "width": 100
    }
   },
   "outputs": [
    {
     "data": {
      "text/plain": [
       "(tensor([[ 1.,  2.,  3.,  4.,  5.],\n",
       "         [ 6.,  7.,  8.,  9., 10.]]),\n",
       " torch.Size([2, 5]),\n",
       " 2)"
      ]
     },
     "execution_count": 189,
     "metadata": {},
     "output_type": "execute_result"
    }
   ],
   "source": [
    "x_reshape = x.reshape(2, 5) #hint: 5 * 2 = 10\n",
    "x_reshape, x_reshape.shape, x_reshape.ndim"
   ]
  },
  {
   "cell_type": "code",
   "execution_count": 190,
   "id": "b2ce4d17",
   "metadata": {
    "panel-layout": {
     "height": -10,
     "visible": true,
     "width": 100
    }
   },
   "outputs": [
    {
     "data": {
      "text/plain": [
       "(tensor([[ 1.,  2.,  3.,  4.,  5.,  6.,  7.,  8.,  9., 10.]]),\n",
       " torch.Size([1, 10]))"
      ]
     },
     "execution_count": 190,
     "metadata": {},
     "output_type": "execute_result"
    }
   ],
   "source": [
    "# change the view\n",
    "z = x.view(1, 10)\n",
    "z, z.shape"
   ]
  },
  {
   "cell_type": "code",
   "execution_count": 191,
   "id": "88300f26",
   "metadata": {
    "panel-layout": {
     "height": -10,
     "visible": true,
     "width": 100
    }
   },
   "outputs": [
    {
     "data": {
      "text/plain": [
       "(tensor([[1., 2., 3., 4., 5., 6., 7., 8., 9., 1.]]),\n",
       " tensor([1., 2., 3., 4., 5., 6., 7., 8., 9., 1.]))"
      ]
     },
     "execution_count": 191,
     "metadata": {},
     "output_type": "execute_result"
    }
   ],
   "source": [
    "# changing z changes x (because a view of a tensor shares the same memory, as the original tensor\n",
    "z[0, 9] = 1 # it's like z[0][9]\n",
    "z, x"
   ]
  },
  {
   "cell_type": "code",
   "execution_count": 192,
   "id": "48c5a9d9",
   "metadata": {
    "panel-layout": {
     "height": -10,
     "visible": true,
     "width": 100
    }
   },
   "outputs": [
    {
     "data": {
      "text/plain": [
       "tensor([[1., 0., 3., 4., 5.],\n",
       "        [6., 0., 8., 9., 1.]])"
      ]
     },
     "execution_count": 192,
     "metadata": {},
     "output_type": "execute_result"
    }
   ],
   "source": [
    "z = x.view(2, 5) # 2 rows and 5 columns\n",
    "z[:, 1] = 0 # means that I want to set all numbers in column 1 to 0 no matter its rows\n",
    "z"
   ]
  },
  {
   "cell_type": "code",
   "execution_count": 193,
   "id": "927c6d33",
   "metadata": {
    "panel-layout": {
     "height": -10,
     "visible": true,
     "width": 100
    }
   },
   "outputs": [
    {
     "data": {
      "text/plain": [
       "(tensor([[1., 0., 3., 9., 5.],\n",
       "         [6., 0., 8., 9., 1.]]),\n",
       " tensor([1., 0., 3., 9., 5., 6., 0., 8., 9., 1.]))"
      ]
     },
     "execution_count": 193,
     "metadata": {},
     "output_type": "execute_result"
    }
   ],
   "source": [
    "z[:, 3] = 9\n",
    "z, x # the information will be the same, but in z we see it in a different view"
   ]
  },
  {
   "cell_type": "code",
   "execution_count": 194,
   "id": "8297a81a",
   "metadata": {
    "panel-layout": {
     "height": -10,
     "visible": true,
     "width": 100
    }
   },
   "outputs": [
    {
     "data": {
      "text/plain": [
       "tensor([[1., 0., 3., 9., 5., 6., 0., 8., 9., 1.],\n",
       "        [1., 0., 3., 9., 5., 6., 0., 8., 9., 1.],\n",
       "        [1., 0., 3., 9., 5., 6., 0., 8., 9., 1.],\n",
       "        [1., 0., 3., 9., 5., 6., 0., 8., 9., 1.]])"
      ]
     },
     "execution_count": 194,
     "metadata": {},
     "output_type": "execute_result"
    }
   ],
   "source": [
    "# stack tensor on top of each other (vstack dim=0)\n",
    "x_stacked = torch.stack([x, x, x, x], dim=0)\n",
    "x_stacked"
   ]
  },
  {
   "cell_type": "code",
   "execution_count": 195,
   "id": "ec51800a",
   "metadata": {
    "panel-layout": {
     "height": -10,
     "visible": true,
     "width": 100
    }
   },
   "outputs": [
    {
     "data": {
      "text/plain": [
       "(tensor([[1., 0., 3., 9., 5., 6., 0., 8., 9., 1.]]),\n",
       " torch.Size([1, 10]),\n",
       " tensor([1., 0., 3., 9., 5., 6., 0., 8., 9., 1.]))"
      ]
     },
     "execution_count": 195,
     "metadata": {},
     "output_type": "execute_result"
    }
   ],
   "source": [
    "# squeezing - removes all the single dimension size 1\n",
    "x_reshape = x.reshape(1, 10)\n",
    "x_reshape, x_reshape.shape, x_reshape.squeeze() ## it changes the tensor to 1 dimension - x_reshape.size = [1, 10] so it removes all the one dimension"
   ]
  },
  {
   "cell_type": "code",
   "execution_count": 196,
   "id": "d97bd281",
   "metadata": {
    "panel-layout": {
     "height": -10,
     "visible": true,
     "width": 100
    }
   },
   "outputs": [
    {
     "data": {
      "text/plain": [
       "torch.Size([10])"
      ]
     },
     "execution_count": 196,
     "metadata": {},
     "output_type": "execute_result"
    }
   ],
   "source": [
    "x_reshape.squeeze().shape"
   ]
  },
  {
   "cell_type": "code",
   "execution_count": 197,
   "id": "8b6943f2",
   "metadata": {
    "panel-layout": {
     "height": -10,
     "visible": true,
     "width": 100
    }
   },
   "outputs": [
    {
     "name": "stdout",
     "output_type": "stream",
     "text": [
      "Previous tensor: tensor([[1., 0., 3., 9., 5., 6., 0., 8., 9., 1.]])\n",
      "Previous shape: torch.Size([1, 10])\n",
      "\n",
      "New tensor: tensor([1., 0., 3., 9., 5., 6., 0., 8., 9., 1.])\n",
      "New shape: torch.Size([10])\n"
     ]
    }
   ],
   "source": [
    "# torch.squeeze(input, dim=None) - removes all single dimension from a target tensor\n",
    "print(f'Previous tensor: {x_reshape}')\n",
    "print(f'Previous shape: {x_reshape.shape}')\n",
    "\n",
    "# Remove extra dimension from x_reshape\n",
    "x_squeezed = x_reshape.squeeze()\n",
    "print(f'\\nNew tensor: {x_squeezed}')\n",
    "print(f'New shape: {x_squeezed.shape}')"
   ]
  },
  {
   "cell_type": "code",
   "execution_count": 198,
   "id": "acbc24fe",
   "metadata": {
    "panel-layout": {
     "height": -10,
     "visible": true,
     "width": 100
    }
   },
   "outputs": [
    {
     "name": "stdout",
     "output_type": "stream",
     "text": [
      "Previous target tensor: tensor([1., 0., 3., 9., 5., 6., 0., 8., 9., 1.])\n",
      "Previous target shape: torch.Size([10])\n",
      "\n",
      "New target tensor: tensor([[1., 0., 3., 9., 5., 6., 0., 8., 9., 1.]])\n",
      "New target shape: torch.Size([1, 10])\n",
      "\n",
      "New target tensor: tensor([[1.],\n",
      "        [0.],\n",
      "        [3.],\n",
      "        [9.],\n",
      "        [5.],\n",
      "        [6.],\n",
      "        [0.],\n",
      "        [8.],\n",
      "        [9.],\n",
      "        [1.]])\n",
      "New target shape: torch.Size([10, 1])\n"
     ]
    }
   ],
   "source": [
    "# torch.unsqueeze(input, dim) - add a single dimension to a target tensor at a specific dim (dimension)\n",
    "print(f'Previous target tensor: {x_squeezed}')\n",
    "print(f'Previous target shape: {x_squeezed.shape}')\n",
    "\n",
    "# Add an extra dimenstion with unsqueeze at a dimension 0\n",
    "x_unsqueezed = x_squeezed.unsqueeze(dim=0)\n",
    "print(f'\\nNew target tensor: {x_unsqueezed}')\n",
    "print(f'New target shape: {x_unsqueezed.shape}')\n",
    "\n",
    "# Add an extra dimenstion with unsqueeze at a dimension 1\n",
    "x_unsqueezed = x_squeezed.unsqueeze(dim=1)\n",
    "print(f'\\nNew target tensor: {x_unsqueezed}')\n",
    "print(f'New target shape: {x_unsqueezed.shape}')"
   ]
  },
  {
   "cell_type": "code",
   "execution_count": 199,
   "id": "0cd3a254",
   "metadata": {
    "panel-layout": {
     "height": -10,
     "visible": true,
     "width": 100
    }
   },
   "outputs": [
    {
     "name": "stdout",
     "output_type": "stream",
     "text": [
      "Previous shape: torch.Size([244, 244, 3])\n",
      "New shape: torch.Size([3, 244, 244])\n"
     ]
    }
   ],
   "source": [
    "# torch.permute(input, dims) - rearranges the dimensions of a target tensor in a specified order\n",
    "x_original = torch.rand(size=(244, 244, 3)) # [height, width, color_channels(rgb)]\n",
    "\n",
    "# permute the original tensor to  rearrange the axis (or dim) order \n",
    "x_permuted = x_original.permute(2, 0, 1) # [color_channels, height, width] \n",
    "\n",
    "print(f'Previous shape: {x_original.shape}')\n",
    "print(f'New shape: {x_permuted.shape}')"
   ]
  },
  {
   "cell_type": "code",
   "execution_count": 200,
   "id": "bcd294dc",
   "metadata": {
    "panel-layout": {
     "height": -10,
     "visible": true,
     "width": 100
    }
   },
   "outputs": [
    {
     "data": {
      "text/plain": [
       "tensor(0.2736)"
      ]
     },
     "execution_count": 200,
     "metadata": {},
     "output_type": "execute_result"
    }
   ],
   "source": [
    "# torch.permute Returns a view of the original tensor input with its dimensions permuted.\n",
    "## it changes the original tensor when changing the permuted tensor \n",
    "\n",
    "x_original[0, 0, 0]"
   ]
  },
  {
   "cell_type": "code",
   "execution_count": 201,
   "id": "2f1b2429",
   "metadata": {
    "panel-layout": {
     "height": -10,
     "visible": true,
     "width": 100
    }
   },
   "outputs": [
    {
     "data": {
      "text/plain": [
       "(tensor(2.), tensor(2.))"
      ]
     },
     "execution_count": 201,
     "metadata": {},
     "output_type": "execute_result"
    }
   ],
   "source": [
    "x_permuted[0,0,0] = 2.\n",
    "x_original[0,0,0], x_permuted[0,0,0]"
   ]
  },
  {
   "cell_type": "markdown",
   "id": "689aae9e",
   "metadata": {
    "panel-layout": {
     "height": -10,
     "visible": true,
     "width": 100
    }
   },
   "source": [
    "## Indexing (selecting data from tensors)"
   ]
  },
  {
   "cell_type": "code",
   "execution_count": 203,
   "id": "2f83609e",
   "metadata": {
    "panel-layout": {
     "height": -10,
     "visible": true,
     "width": 100
    }
   },
   "outputs": [
    {
     "data": {
      "text/plain": [
       "tensor([[[1, 2, 3],\n",
       "         [4, 5, 6],\n",
       "         [7, 8, 9]]])"
      ]
     },
     "execution_count": 203,
     "metadata": {},
     "output_type": "execute_result"
    }
   ],
   "source": [
    " # create a tensor with 3 dimensions\n",
    "x = torch.arange(1, 10).reshape(1, 3, 3)\n",
    "x"
   ]
  },
  {
   "cell_type": "code",
   "execution_count": 204,
   "id": "258ef744",
   "metadata": {
    "panel-layout": {
     "height": -10,
     "visible": true,
     "width": 100
    }
   },
   "outputs": [
    {
     "data": {
      "text/plain": [
       "tensor([[1, 2, 3],\n",
       "        [4, 5, 6],\n",
       "        [7, 8, 9]])"
      ]
     },
     "execution_count": 204,
     "metadata": {},
     "output_type": "execute_result"
    }
   ],
   "source": [
    "# index on the first dimension (dim=0)\n",
    "x[0]"
   ]
  },
  {
   "cell_type": "code",
   "execution_count": 205,
   "id": "202f83a5",
   "metadata": {
    "panel-layout": {
     "height": -10,
     "visible": true,
     "width": 100
    }
   },
   "outputs": [
    {
     "data": {
      "text/plain": [
       "tensor([1, 2, 3])"
      ]
     },
     "execution_count": 205,
     "metadata": {},
     "output_type": "execute_result"
    }
   ],
   "source": [
    "# index on the second dimension (dim=1)\n",
    "x[0][0]"
   ]
  },
  {
   "cell_type": "code",
   "execution_count": 206,
   "id": "f5114707",
   "metadata": {
    "panel-layout": {
     "height": -10,
     "visible": true,
     "width": 100
    }
   },
   "outputs": [
    {
     "data": {
      "text/plain": [
       "tensor(1)"
      ]
     },
     "execution_count": 206,
     "metadata": {},
     "output_type": "execute_result"
    }
   ],
   "source": [
    "# indec on the third dimension (dim=2)\n",
    "x[0][0][0]"
   ]
  },
  {
   "cell_type": "code",
   "execution_count": 207,
   "id": "03b41112",
   "metadata": {
    "panel-layout": {
     "height": -10,
     "visible": true,
     "width": 100
    }
   },
   "outputs": [
    {
     "data": {
      "text/plain": [
       "tensor([[1, 2, 3]])"
      ]
     },
     "execution_count": 207,
     "metadata": {},
     "output_type": "execute_result"
    }
   ],
   "source": [
    "# you can use \":\" to select \"all\" of a target dimension\n",
    "x[:,0]"
   ]
  },
  {
   "cell_type": "code",
   "execution_count": 208,
   "id": "df0a243a",
   "metadata": {
    "panel-layout": {
     "height": -10,
     "visible": true,
     "width": 100
    }
   },
   "outputs": [
    {
     "data": {
      "text/plain": [
       "tensor([[2, 5, 8]])"
      ]
     },
     "execution_count": 208,
     "metadata": {},
     "output_type": "execute_result"
    }
   ],
   "source": [
    "# Get all values 1st and 2nd dimension but only index 1 of 3rd dimension\n",
    "x[:, :, 1]"
   ]
  },
  {
   "cell_type": "code",
   "execution_count": 209,
   "id": "9c48a59c",
   "metadata": {
    "panel-layout": {
     "height": -10,
     "visible": true,
     "width": 100
    }
   },
   "outputs": [
    {
     "data": {
      "text/plain": [
       "tensor([5])"
      ]
     },
     "execution_count": 209,
     "metadata": {},
     "output_type": "execute_result"
    }
   ],
   "source": [
    "# Get all values of the 1st dimension (dim=0) but only the 1 index value of 1st and 2nd dimension\n",
    "x[:, 1, 1]"
   ]
  },
  {
   "cell_type": "code",
   "execution_count": 210,
   "id": "e22e359b",
   "metadata": {
    "panel-layout": {
     "height": -10,
     "visible": true,
     "width": 100
    }
   },
   "outputs": [
    {
     "data": {
      "text/plain": [
       "tensor([1, 2, 3])"
      ]
     },
     "execution_count": 210,
     "metadata": {},
     "output_type": "execute_result"
    }
   ],
   "source": [
    "# Get index 0 of 1st dimension and 2nd dimension and all values of 3rd dimension\n",
    "x[0, 0, :]"
   ]
  },
  {
   "cell_type": "code",
   "execution_count": 211,
   "id": "eba1485f",
   "metadata": {
    "panel-layout": {
     "height": -10,
     "visible": true,
     "width": 100
    }
   },
   "outputs": [
    {
     "data": {
      "text/plain": [
       "tensor(9)"
      ]
     },
     "execution_count": 211,
     "metadata": {},
     "output_type": "execute_result"
    }
   ],
   "source": [
    "# index on x to return 9 \n",
    "x[0,2,2]"
   ]
  },
  {
   "cell_type": "code",
   "execution_count": 212,
   "id": "293b6d4d",
   "metadata": {
    "panel-layout": {
     "height": -10,
     "visible": true,
     "width": 100
    }
   },
   "outputs": [
    {
     "data": {
      "text/plain": [
       "tensor([3, 6, 9])"
      ]
     },
     "execution_count": 212,
     "metadata": {},
     "output_type": "execute_result"
    }
   ],
   "source": [
    "# index on x to return 3, 6, 9\n",
    "x[0, :, 2]"
   ]
  },
  {
   "cell_type": "code",
   "execution_count": 213,
   "id": "0a94a2fb",
   "metadata": {
    "panel-layout": {
     "height": -10,
     "visible": true,
     "width": 100
    }
   },
   "outputs": [
    {
     "data": {
      "text/plain": [
       "(tensor([ 1.,  2.,  3.,  4.,  5.,  6.,  7.,  8.,  9., 10.]),\n",
       " True,\n",
       " torch.Size([10]))"
      ]
     },
     "execution_count": 213,
     "metadata": {},
     "output_type": "execute_result"
    }
   ],
   "source": [
    "x = torch.arange(1., 11.)\n",
    "x, x.is_contiguous(), x.shape"
   ]
  },
  {
   "cell_type": "code",
   "execution_count": 214,
   "id": "2bcc87bc",
   "metadata": {
    "panel-layout": {
     "height": -10,
     "visible": true,
     "width": 100
    }
   },
   "outputs": [
    {
     "data": {
      "text/plain": [
       "tensor([ 1.,  2.,  3.,  4.,  5.,  6.,  7.,  8.,  9., 10.])"
      ]
     },
     "execution_count": 214,
     "metadata": {},
     "output_type": "execute_result"
    }
   ],
   "source": [
    "x = x.squeeze()\n",
    "x"
   ]
  },
  {
   "cell_type": "code",
   "execution_count": 215,
   "id": "2a95bb78",
   "metadata": {
    "panel-layout": {
     "height": -10,
     "visible": true,
     "width": 100
    }
   },
   "outputs": [
    {
     "data": {
      "text/plain": [
       "(tensor([[ 1.,  6.],\n",
       "         [ 2.,  7.],\n",
       "         [ 3.,  8.],\n",
       "         [ 4.,  9.],\n",
       "         [ 5., 10.]]),\n",
       " False)"
      ]
     },
     "execution_count": 215,
     "metadata": {},
     "output_type": "execute_result"
    }
   ],
   "source": [
    "y = x.reshape(2,5).T\n",
    "y, y.is_contiguous()"
   ]
  },
  {
   "cell_type": "code",
   "execution_count": 216,
   "id": "764aa936",
   "metadata": {
    "panel-layout": {
     "height": -10,
     "visible": true,
     "width": 100
    }
   },
   "outputs": [
    {
     "data": {
      "text/plain": [
       "(tensor([[ 1.,  6.,  2.,  7.,  3.,  8.,  4.,  9.,  5., 10.]]), True)"
      ]
     },
     "execution_count": 216,
     "metadata": {},
     "output_type": "execute_result"
    }
   ],
   "source": [
    "z = y.reshape(1,10)\n",
    "z, z.is_contiguous()"
   ]
  },
  {
   "cell_type": "code",
   "execution_count": 217,
   "id": "94c7a037",
   "metadata": {
    "panel-layout": {
     "height": -10,
     "visible": true,
     "width": 100
    }
   },
   "outputs": [
    {
     "data": {
      "text/plain": [
       "(tensor([[10., 10., 10., 10., 10., 10., 10., 10., 10., 10.]]),\n",
       " tensor([[ 1.,  6.],\n",
       "         [ 2.,  7.],\n",
       "         [ 3.,  8.],\n",
       "         [ 4.,  9.],\n",
       "         [ 5., 10.]]))"
      ]
     },
     "execution_count": 217,
     "metadata": {},
     "output_type": "execute_result"
    }
   ],
   "source": [
    "z[0, :] = 10\n",
    "z, y # if a contiguous tensor was derived from a non-contigous tensor then they will be independent to each other"
   ]
  },
  {
   "cell_type": "code",
   "execution_count": 298,
   "id": "641a11ce",
   "metadata": {
    "panel-layout": {
     "height": -10,
     "visible": true,
     "width": 100
    }
   },
   "outputs": [
    {
     "data": {
      "text/plain": [
       "tensor([[[1., 2., 3.],\n",
       "         [4., 5., 6.],\n",
       "         [7., 8., 9.]]])"
      ]
     },
     "execution_count": 298,
     "metadata": {},
     "output_type": "execute_result"
    }
   ],
   "source": [
    "x = torch.arange(1., 10.).reshape(1, 3, 3)\n",
    "x"
   ]
  },
  {
   "cell_type": "code",
   "execution_count": 302,
   "id": "cf584e36",
   "metadata": {
    "panel-layout": {
     "height": -10,
     "visible": true,
     "width": 100
    }
   },
   "outputs": [
    {
     "data": {
      "text/plain": [
       "tensor([[2., 5., 8.]])"
      ]
     },
     "execution_count": 302,
     "metadata": {},
     "output_type": "execute_result"
    }
   ],
   "source": [
    "# Get all value of 0th and 1st dimensions but only index 1 of 2nd dimension \n",
    "x[:,:, 1]"
   ]
  },
  {
   "cell_type": "code",
   "execution_count": 310,
   "id": "e558ffb3",
   "metadata": {
    "panel-layout": {
     "height": -10,
     "visible": true,
     "width": 100
    }
   },
   "outputs": [
    {
     "data": {
      "text/plain": [
       "tensor([5.])"
      ]
     },
     "execution_count": 310,
     "metadata": {},
     "output_type": "execute_result"
    }
   ],
   "source": [
    "# get all values of the 0th dimension but only the 1 index value of 1st and 2nd dimension\n",
    "x[:, 1, 1]"
   ]
  },
  {
   "cell_type": "code",
   "execution_count": 318,
   "id": "96aaf947",
   "metadata": {
    "panel-layout": {
     "height": -10,
     "visible": true,
     "width": 100
    }
   },
   "outputs": [
    {
     "data": {
      "text/plain": [
       "tensor([1., 2., 3.])"
      ]
     },
     "execution_count": 318,
     "metadata": {},
     "output_type": "execute_result"
    }
   ],
   "source": [
    "# get index 0 of 0th and 1st dimension and all values of 2nd dimension \n",
    "x[0, 0, :]"
   ]
  },
  {
   "cell_type": "code",
   "execution_count": 330,
   "id": "57d02549",
   "metadata": {
    "panel-layout": {
     "height": -10,
     "visible": true,
     "width": 100
    }
   },
   "outputs": [
    {
     "data": {
      "text/plain": [
       "tensor([[3., 6., 9.]])"
      ]
     },
     "execution_count": 330,
     "metadata": {},
     "output_type": "execute_result"
    }
   ],
   "source": [
    "x[:, :, 2] ## give you the \"all\" values of index 0 (list)"
   ]
  },
  {
   "cell_type": "code",
   "execution_count": 334,
   "id": "fb9dbcf2",
   "metadata": {
    "panel-layout": {
     "height": -10,
     "visible": true,
     "width": 100
    }
   },
   "outputs": [
    {
     "data": {
      "text/plain": [
       "tensor([3., 6., 9.])"
      ]
     },
     "execution_count": 334,
     "metadata": {},
     "output_type": "execute_result"
    }
   ],
   "source": [
    "x[0, :, 2] ## give you the first element of 0th dimension (element)"
   ]
  },
  {
   "cell_type": "markdown",
   "id": "5a4fdc64",
   "metadata": {
    "panel-layout": {
     "height": -10,
     "visible": true,
     "width": 100
    }
   },
   "source": [
    "## PyTorch Tensors and NumPy\n",
    "\n",
    "NumPy is a popular scientific Python numerical computing library\n",
    "- NumPy -> PyTorch tensor `torch.from_numpy(ndarray)`\n",
    "- PyTorch tensor -> NumPy `torch.Tensor.numpy()`"
   ]
  },
  {
   "cell_type": "code",
   "execution_count": 343,
   "id": "f6c1869b",
   "metadata": {
    "panel-layout": {
     "height": -10,
     "visible": true,
     "width": 100
    }
   },
   "outputs": [
    {
     "data": {
      "text/plain": [
       "(array([1., 2., 3., 4., 5., 6., 7., 8., 9.]), dtype('float64'))"
      ]
     },
     "execution_count": 343,
     "metadata": {},
     "output_type": "execute_result"
    }
   ],
   "source": [
    "import numpy as np \n",
    "\n",
    "array = np.arange(1., 10.)\n",
    "array, array.dtype"
   ]
  },
  {
   "cell_type": "code",
   "execution_count": 347,
   "id": "0315a759",
   "metadata": {
    "panel-layout": {
     "height": -10,
     "visible": true,
     "width": 100
    }
   },
   "outputs": [
    {
     "data": {
      "text/plain": [
       "tensor([1., 2., 3., 4., 5., 6., 7., 8., 9.], dtype=torch.float64)"
      ]
     },
     "execution_count": 347,
     "metadata": {},
     "output_type": "execute_result"
    }
   ],
   "source": [
    "tensor = torch.from_numpy(array) ## the datatype of default value from numpy will be refelected by the tensor\n",
    "tensor"
   ]
  },
  {
   "cell_type": "code",
   "execution_count": 359,
   "id": "44949f55",
   "metadata": {
    "panel-layout": {
     "height": -10,
     "visible": true,
     "width": 100
    }
   },
   "outputs": [
    {
     "data": {
      "text/plain": [
       "(tensor([1., 1., 1., 1., 1., 1., 1., 1., 1., 1.]),\n",
       " array([1., 1., 1., 1., 1., 1., 1., 1., 1., 1.], dtype=float32))"
      ]
     },
     "execution_count": 359,
     "metadata": {},
     "output_type": "execute_result"
    }
   ],
   "source": [
    "tensor = torch.ones(10)\n",
    "numpy_tensor = tensor.numpy() ## it also reflects the default dtype\n",
    "tensor, numpy_tensor"
   ]
  },
  {
   "cell_type": "code",
   "execution_count": 365,
   "id": "41c2ae57",
   "metadata": {
    "panel-layout": {
     "height": -10,
     "visible": true,
     "width": 100
    }
   },
   "outputs": [
    {
     "data": {
      "text/plain": [
       "(tensor([4., 4., 4., 4., 4., 4., 4., 4., 4., 4.]),\n",
       " array([1., 1., 1., 1., 1., 1., 1., 1., 1., 1.], dtype=float32))"
      ]
     },
     "execution_count": 365,
     "metadata": {},
     "output_type": "execute_result"
    }
   ],
   "source": [
    "# change the tensor, what happens to `numpy_tensor`?\n",
    "tensor = tensor + 1\n",
    "tensor, numpy_tensor ## tensor are not contagious (they don't share memory)"
   ]
  },
  {
   "cell_type": "markdown",
   "id": "dab92373",
   "metadata": {
    "panel-layout": {
     "height": -10,
     "visible": true,
     "width": 100
    }
   },
   "source": [
    "## Reproducibility (trying to take random out of random) \n",
    "\n",
    "\"The concept of neural network harnessing the power of randomness\"\n",
    "\n",
    "How a neural network learns: \n",
    "`start with random numbers -> tensor operations -> update random numbers to try and make them of the data -> again -> again -> again..`\n",
    "\n",
    "To reduce the randomness in neural networks and PyTorch comes the concept of a `random seed.` Essentially what the seed does is \"flavour\" the randomness.\n",
    "\n",
    "This is helpful because the program always give random numbers everytime it runs, so one of the case is that when you want to share the program to others (they will get random starter) this why the seed comes."
   ]
  },
  {
   "cell_type": "code",
   "execution_count": 368,
   "id": "5005ce1d",
   "metadata": {
    "panel-layout": {
     "height": -10,
     "visible": true,
     "width": 100
    }
   },
   "outputs": [
    {
     "name": "stdout",
     "output_type": "stream",
     "text": [
      "tensor([[0.7052, 0.5657, 0.1827, 0.0887],\n",
      "        [0.9972, 0.7674, 0.1623, 0.5901],\n",
      "        [0.0349, 0.9170, 0.7977, 0.1646]])\n",
      "tensor([[0.2411, 0.7798, 0.3834, 0.7981],\n",
      "        [0.7011, 0.2700, 0.0622, 0.6193],\n",
      "        [0.5112, 0.9024, 0.7580, 0.7580]])\n",
      "tensor([[False, False, False, False],\n",
      "        [False, False, False, False],\n",
      "        [False, False, False, False]])\n"
     ]
    }
   ],
   "source": [
    "# create two random tensors \n",
    "random_tensor_a = torch.rand(3, 4)\n",
    "random_tensor_b = torch.rand(3, 4) \n",
    "\n",
    "print(random_tensor_a)\n",
    "print(random_tensor_b)\n",
    "print(random_tensor_a == random_tensor_b)"
   ]
  },
  {
   "cell_type": "code",
   "execution_count": 378,
   "id": "ddf07315",
   "metadata": {
    "panel-layout": {
     "height": -10,
     "visible": true,
     "width": 100
    }
   },
   "outputs": [
    {
     "name": "stdout",
     "output_type": "stream",
     "text": [
      "tensor([[0.4963, 0.7682, 0.0885, 0.1320],\n",
      "        [0.3074, 0.6341, 0.4901, 0.8964],\n",
      "        [0.4556, 0.6323, 0.3489, 0.4017]])\n",
      "tensor([[0.4963, 0.7682, 0.0885, 0.1320],\n",
      "        [0.3074, 0.6341, 0.4901, 0.8964],\n",
      "        [0.4556, 0.6323, 0.3489, 0.4017]])\n",
      "tensor([[True, True, True, True],\n",
      "        [True, True, True, True],\n",
      "        [True, True, True, True]])\n"
     ]
    }
   ],
   "source": [
    "# Let's make some random but reproducible tensors using seed \n",
    "RANDOM_SEED = 0 # this can be absolutely arbitrary\n",
    "\n",
    "torch.manual_seed(RANDOM_SEED)\n",
    "random_tensor_c = torch.rand(3, 4) \n",
    "\n",
    "torch.manual_seed(RANDOM_SEED) ## this procedure is only for one tensor assignment\n",
    "random_tensor_d = torch.rand(3, 4)\n",
    "\n",
    "print(random_tensor_c)\n",
    "print(random_tensor_d)\n",
    "print(random_tensor_c == random_tensor_d)"
   ]
  },
  {
   "cell_type": "markdown",
   "id": "744fb62b",
   "metadata": {
    "panel-layout": {
     "height": -10,
     "visible": true,
     "width": 100
    }
   },
   "source": [
    "## Different ways of accessing a GPU and making faster computations\n",
    "\n",
    "GPUs = faster computation on numbers, thanks to CUDA + NVIDIA + PyTorch"
   ]
  },
  {
   "cell_type": "markdown",
   "id": "e6c36d5a",
   "metadata": {
    "panel-layout": {
     "height": -10,
     "visible": true,
     "width": 100
    }
   },
   "source": [
    "### 1. Getting a GPU\n",
    "\n",
    "1. use google colab\n",
    "2. use your own GPU\n",
    "3. use cloud computing - GCP, AWS, Azure"
   ]
  },
  {
   "cell_type": "markdown",
   "id": "c047bb18",
   "metadata": {
    "panel-layout": {
     "height": -10,
     "visible": true,
     "width": 100
    }
   },
   "source": [
    "### 2. Check for GPU access with PyTorch\n",
    "For PyTorch since it's capable of running compute on the GPU or CPU, it's best practice to setup device agnostic code\n",
    "\n",
    "learn more - https://pytorch.org/docs/stable/notes/cuda.html"
   ]
  },
  {
   "cell_type": "code",
   "execution_count": 401,
   "id": "a29541f0",
   "metadata": {
    "panel-layout": {
     "height": -10,
     "visible": true,
     "width": 100
    }
   },
   "outputs": [
    {
     "data": {
      "text/plain": [
       "True"
      ]
     },
     "execution_count": 401,
     "metadata": {},
     "output_type": "execute_result"
    }
   ],
   "source": [
    "# check for GPU access with PyTorch\n",
    "torch.cuda.is_available()"
   ]
  },
  {
   "cell_type": "code",
   "execution_count": 412,
   "id": "9419cf9b",
   "metadata": {},
   "outputs": [],
   "source": [
    "# setup device agnostic code \n",
    "device = \"cuda\" if torch.cuda.is_available() else \"cpu\""
   ]
  },
  {
   "cell_type": "code",
   "execution_count": 416,
   "id": "378a0f0d",
   "metadata": {
    "panel-layout": {
     "height": -10,
     "visible": true,
     "width": 100
    }
   },
   "outputs": [
    {
     "data": {
      "text/plain": [
       "1"
      ]
     },
     "execution_count": 416,
     "metadata": {},
     "output_type": "execute_result"
    }
   ],
   "source": [
    "# count number of devices\n",
    "torch.cuda.device_count()"
   ]
  },
  {
   "cell_type": "markdown",
   "id": "c0797c3b",
   "metadata": {},
   "source": [
    "### 3. Setting up device agnostic code and putting tensors on and off the GPU\n",
    "\n",
    "The reason we want our tensors/models on the GPU is because using a GPU results in faster computations."
   ]
  },
  {
   "cell_type": "code",
   "execution_count": 441,
   "id": "c596ae87",
   "metadata": {},
   "outputs": [
    {
     "data": {
      "text/plain": [
       "(tensor([[0.5139, 0.4569, 0.6012, 0.8179],\n",
       "         [0.9736, 0.8175, 0.9747, 0.4638],\n",
       "         [0.0508, 0.2630, 0.8405, 0.4968]]),\n",
       " device(type='cpu'))"
      ]
     },
     "execution_count": 441,
     "metadata": {},
     "output_type": "execute_result"
    }
   ],
   "source": [
    "# create a tensor (default on the CPU)\n",
    "tensor = torch.rand(3, 4)\n",
    "\n",
    "tensor, tensor.device"
   ]
  },
  {
   "cell_type": "code",
   "execution_count": 461,
   "id": "e235b5c7",
   "metadata": {},
   "outputs": [
    {
     "data": {
      "text/plain": [
       "(tensor([[0.5139, 0.4569, 0.6012, 0.8179],\n",
       "         [0.9736, 0.8175, 0.9747, 0.4638],\n",
       "         [0.0508, 0.2630, 0.8405, 0.4968]], device='cuda:0'),\n",
       " device(type='cuda', index=0))"
      ]
     },
     "execution_count": 461,
     "metadata": {},
     "output_type": "execute_result"
    }
   ],
   "source": [
    "tensor_on_gpu = tensor.to(device) ## to move the tensor into a specific processing unit\n",
    "tensor_on_gpu, tensor_on_gpu.device"
   ]
  },
  {
   "cell_type": "markdown",
   "id": "1cf56ddf",
   "metadata": {},
   "source": [
    "### 4. Moving tensors back to the CPU"
   ]
  },
  {
   "cell_type": "code",
   "execution_count": 451,
   "id": "6a0919d1",
   "metadata": {},
   "outputs": [
    {
     "ename": "TypeError",
     "evalue": "can't convert cuda:0 device type tensor to numpy. Use Tensor.cpu() to copy the tensor to host memory first.",
     "output_type": "error",
     "traceback": [
      "\u001b[1;31m---------------------------------------------------------------------------\u001b[0m",
      "\u001b[1;31mTypeError\u001b[0m                                 Traceback (most recent call last)",
      "Cell \u001b[1;32mIn[451], line 2\u001b[0m\n\u001b[0;32m      1\u001b[0m \u001b[38;5;66;03m# if tensor is on GPU, can't tranform it to NumPy\u001b[39;00m\n\u001b[1;32m----> 2\u001b[0m tensor_on_gpu\u001b[38;5;241m.\u001b[39mnumpy()\n",
      "\u001b[1;31mTypeError\u001b[0m: can't convert cuda:0 device type tensor to numpy. Use Tensor.cpu() to copy the tensor to host memory first."
     ]
    }
   ],
   "source": [
    "# if tensor is on GPU, can't tranform it to NumPy\n",
    "tensor_on_gpu.numpy()"
   ]
  },
  {
   "cell_type": "code",
   "execution_count": 463,
   "id": "3b996854",
   "metadata": {},
   "outputs": [
    {
     "data": {
      "text/plain": [
       "array([[0.5138961 , 0.45686555, 0.6011907 , 0.81791973],\n",
       "       [0.9736231 , 0.81752795, 0.97470677, 0.46383917],\n",
       "       [0.05083925, 0.2629614 , 0.8404526 , 0.49675876]], dtype=float32)"
      ]
     },
     "execution_count": 463,
     "metadata": {},
     "output_type": "execute_result"
    }
   ],
   "source": [
    "# to fix the GPU tensor with NumPy issue, we can set it to the CPU\n",
    "tensor_back_on_cpu = tensor_on_gpu.cpu().numpy()\n",
    "tensor_back_on_cpu"
   ]
  }
 ],
 "metadata": {
  "kernelspec": {
   "display_name": "Python 3 (ipykernel)",
   "language": "python",
   "name": "python3"
  },
  "language_info": {
   "codemirror_mode": {
    "name": "ipython",
    "version": 3
   },
   "file_extension": ".py",
   "mimetype": "text/x-python",
   "name": "python",
   "nbconvert_exporter": "python",
   "pygments_lexer": "ipython3",
   "version": "3.12.3"
  },
  "panel-cell-order": [
   "1a13b1a0-6a83-4cf7-b3df-b431e72b0728",
   "661bb330-9ef0-4e51-92a3-812cad8117d5",
   "d6f0016e-d777-46da-8a2f-16f3581b480d",
   "b69baa33-c5ed-4e02-bbad-f592d967f7d9",
   "8b88a743-a094-4c26-9885-5be58f19c128",
   "bc287f9b-97d0-43ed-be74-a610ab55a948",
   "ae041d71-3696-418f-9afb-dbc38b4a0fe9",
   "6fabfe14-ba88-41fb-b7e6-15610e4c1033",
   "649ad27d-3e63-48c7-a04d-e9230a99d0ce",
   "0f42c145-edc7-47ca-ba42-26ff1c3ba157",
   "cb147f78-997c-4e0c-8d05-d741104c3897",
   "7cd84a00-3ae8-4a90-947a-7e3703c78e45",
   "927814c8-e632-4abb-82eb-3a6007dcae3c",
   "8eeade91-4cb9-4e23-97e5-50cdc9f35e09",
   "d45e2ee9-8541-4e22-a83a-b1baad94f874",
   "15676dd8-b23e-4713-b2b7-065ca263fc79",
   "7b534d81-847b-468a-8def-f73b4987ff35",
   "33f6e0f3-4eb6-437f-827a-154761dc41fd",
   "fc90c55a-0951-44e8-bb84-082090171806",
   "45cf7ecc-6126-4130-85ea-ecf9a8d8ccca",
   "0538f136-0a45-4bf0-88a1-a857a20cf3f6",
   "7b09706c-5c0e-4e41-a58b-2019b9f39aa7",
   "ac7e8283-4dd0-45fc-9e63-40361ddf5c28",
   "d6847dee-d053-4612-a169-765added73d2",
   "e2987027-17b3-4ed2-9d80-90db89907638",
   "cc9ecdcb-8d8d-4353-8158-f9b618bd0475",
   "b494ac4c-c9bd-4fc7-b0db-5a09da2a2c9c",
   "48f17d37-b20a-4cc7-87af-646bcb397ab8",
   "5d78cea7-25c7-4704-8543-197a4c89f630",
   "39d278c3-a162-4070-87d3-d5dc6684f56c",
   "516246d7-f67e-4093-affa-d2915da9657a",
   "8e5a93d4-fdbf-4292-ba07-56ede11de06f",
   "30dc9f66-ed53-490f-aa35-e77ec5ee46b6",
   "d448a4d6-0a12-44f5-92e5-5502c182d202",
   "49355cce-d5be-4708-9945-aa9c2e25447e",
   "db5bf3e9-0ccc-4f76-b994-127cb5d7d5f1",
   "e90de006-10b5-47a1-a9eb-4ad7ac1d2381",
   "71a002e6-6cee-48a0-994f-41af783166ce",
   "e5b3449f-ba2f-4c44-a750-3fc6482ee1e9",
   "79aa2ac4-4f76-49cf-b252-852fe6c4b4d4",
   "205b026b-c343-4767-82e5-f845dbdc4e51",
   "15bc4fc7-f0ce-48d0-b0f6-0a2c39f35f89",
   "e38461c7-295c-40f7-a7fc-1b847db5dd3a",
   "c49f138b-5cc6-419b-93f0-eceab0a9449c",
   "500f8c27-a0a9-47ca-82f6-536c451d2963",
   "9e0f6a74-2f56-4357-80bb-bccdef20dabc",
   "013b27fc-ac45-4ea6-a812-8754b2a5eb8a",
   "d96615c2-9641-47a9-82ae-5bb7136b43ee",
   "b1d26124-7fce-4005-9b30-7f3d1a5f7502",
   "1181211f-ad42-4b3e-a61b-a7facc173778",
   "6dbace3e-0c48-4514-97da-ec8843375158",
   "035dfb21-2361-49c4-89fd-da8bb5cea6fe",
   "a0770789-64ca-412f-b527-cff4c3bf3a14",
   "ce21c7bb-b25e-4f7b-bbfc-9e7ddd64a88c",
   "ed9b52e1-5cfc-4304-a5cf-98634127d482",
   "ff3bbe64-ec0d-4cc4-b8ef-edfee384c690",
   "d229e76e-2cca-4ca7-8283-a457340a1383",
   "0b59a6b7-607b-4f91-a426-067b306cff85",
   "014ba424-310a-4f6a-befe-17d495bca25a",
   "7242ef49-c8ef-44a7-8921-96803ac4d07d",
   "09841993-7a23-4c23-9c05-6d8b70b73fc9",
   "65241aa2-ac3c-4a46-b92b-bae948f8b584",
   "82447c58-4678-43f7-92dd-c73c8db0ea99",
   "16646d81-dda9-4514-b919-0ea53fb7dfa9",
   "4b24908a-48b1-48d0-9e08-995f8a83f242",
   "0bb8e1d0-3ee2-439d-82db-dc0253b46bc6",
   "74c42228-11c8-4f74-aa64-18a14b53c1cd",
   "c1405961-605f-45b6-b30d-90e17a92d8d8",
   "f47f251f-6010-4fb7-96e0-eaed8181f036",
   "0b4c86ae-22b9-4f49-9d36-aae3d79b4699",
   "3a24bbd0-93fc-4395-866c-a1ea1f42dcfc",
   "8299420b-3e97-4f80-bfad-94942b702e85",
   "a93e8c6f-ef8b-44ec-aa48-c45cbdd3ecbb",
   "a84de9d4-a416-42b0-8c4b-1151ff77c3d7",
   "353c0693-4179-4883-aea1-ab5dbfccdcef",
   "2c1f6871-e713-42d8-8e4f-611b01502022",
   "ef5a761c-cf72-4135-bc64-507e9279759c",
   "5add48bc-05a6-44d0-becb-5fc1b75f89a1",
   "9177a2f7-ceb6-474f-aa2f-210e3f4bb8f7",
   "e559be37-cc55-417a-a049-87b7c33ae63f",
   "50bc0b57-5ba3-487b-b672-cfe21a89dcb5",
   "d5a6bb87-e0f6-4e42-854b-f943d1644bd6",
   "6818eeb7-7619-44ba-9c07-51936907a892",
   "e55f7e72-180c-4ca5-9312-78ae178842e9",
   "ee9f70f8-4453-4af9-be93-f4a2109acb00",
   "e48d6ca5-3815-43c3-8726-4d68b213148b",
   "a4f33f7b-4224-4e65-92d2-589e147e4b32",
   "e8e0e2f1-86ff-4f84-ad5b-312a6a044d39",
   "0b760c10-34b7-46a2-96c0-1a6cab032cd9"
  ]
 },
 "nbformat": 4,
 "nbformat_minor": 5
}
