{
 "cells": [
  {
   "cell_type": "code",
   "execution_count": 2,
   "metadata": {},
   "outputs": [
    {
     "name": "stderr",
     "output_type": "stream",
     "text": [
      " 20%|██        | 1/5 [00:16<01:05, 16.39s/it]"
     ]
    },
    {
     "name": "stdout",
     "output_type": "stream",
     "text": [
      "Epoch: 1 | train_loss: 1.1229 | train_acc: 0.2695 | test_loss: 1.1266 | test_acc: 0.2604\n"
     ]
    },
    {
     "name": "stderr",
     "output_type": "stream",
     "text": [
      "100%|██████████| 5/5 [01:26<00:00, 17.27s/it]"
     ]
    },
    {
     "name": "stdout",
     "output_type": "stream",
     "text": [
      "[INFO] Saving model to: ..\\models\\05_going_modular_script_mode_tinyvgg_model.pt\n"
     ]
    },
    {
     "name": "stderr",
     "output_type": "stream",
     "text": [
      "\n"
     ]
    }
   ],
   "source": [
    "import os \n",
    "import torch \n",
    "import data_setup, engine, model_builder, utils\n",
    "\n",
    "from torchvision import transforms \n",
    "\n",
    "# setup hyperparameters \n",
    "NUM_EPOCHS = 5\n",
    "BATCH_SIZE = 32\n",
    "HIDDEN_UNITS = 10 \n",
    "LEARNING_RATE = 0.001\n",
    "\n",
    "# setup directories \n",
    "train_dir = \"../data/pizza_steak_sushi/train\"\n",
    "test_dir = \"../data/pizza_steak_sushi/test\"\n",
    "\n",
    "# setup device agnostic code \n",
    "device = \"cuda\" if torch.cuda.is_available() else \"cpu\"\n",
    "\n",
    "# create transforms\n",
    "data_transform = transforms.Compose([\n",
    "    transforms.Resize(size=(64, 64)),\n",
    "    transforms.ToTensor()\n",
    "])\n",
    "\n",
    "# create DataLoaders with help from data_setup.py\n",
    "train_dataloader, test_dataloader, class_names = data_setup.create_dataloaders(\n",
    "    train_dir=train_dir, \n",
    "    test_dir=test_dir, \n",
    "    transform=data_transform, \n",
    "    batch_size=BATCH_SIZE\n",
    ")\n",
    "\n",
    "# create model with help from model_builder.py\n",
    "model = model_builder.TinyVGG(\n",
    "    input_shape=3, \n",
    "    hidden_units=HIDDEN_UNITS, \n",
    "    output_shape=len(class_names)\n",
    ").to(device)\n",
    "\n",
    "# set loss and optimizer\n",
    "loss_fn = torch.nn.CrossEntropyLoss()\n",
    "optimizer = torch.optim.Adam(params=model.parameters(), lr=LEARNING_RATE)\n",
    "\n",
    "# start training with help from engine.py \n",
    "engine.train(model=model, \n",
    "            train_dataloader=train_dataloader, \n",
    "            test_dataloader=test_dataloader, \n",
    "            loss_fn=loss_fn, \n",
    "            optimizer=optimizer, \n",
    "            epochs=NUM_EPOCHS, \n",
    "            device=device)\n",
    "        \n",
    "# save the model with help from utils.py\n",
    "utils.save_model(model=model, target_dir=\"../models\", model_name=\"05_going_modular_script_mode_tinyvgg_model.pt\")"
   ]
  }
 ],
 "metadata": {
  "kernelspec": {
   "display_name": "base",
   "language": "python",
   "name": "python3"
  },
  "language_info": {
   "codemirror_mode": {
    "name": "ipython",
    "version": 3
   },
   "file_extension": ".py",
   "mimetype": "text/x-python",
   "name": "python",
   "nbconvert_exporter": "python",
   "pygments_lexer": "ipython3",
   "version": "3.12.3"
  }
 },
 "nbformat": 4,
 "nbformat_minor": 2
}
